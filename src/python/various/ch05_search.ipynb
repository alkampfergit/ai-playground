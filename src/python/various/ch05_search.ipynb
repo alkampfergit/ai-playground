{
 "cells": [
  {
   "cell_type": "code",
   "execution_count": 3,
   "metadata": {},
   "outputs": [],
   "source": [
    "from langchain.llms import AzureOpenAI\n",
    "from langchain.chat_models import AzureChatOpenAI\n",
    "from dotenv import load_dotenv, find_dotenv\n",
    "from langchain.agents import initialize_agent\n",
    "from langchain.agents import load_tools, Tool\n",
    "\n",
    "_ = load_dotenv(find_dotenv()) # read local .env file\n",
    "\n",
    "# we are using not a chat based llm, but a simple Davinci\n",
    "llm = AzureOpenAI(\n",
    "    openai_api_version=\"2023-03-15-preview\",\n",
    "    deployment_name=\"Davinci003\", \n",
    "    model_name=\"text-davinci-003\"\n",
    ")\n",
    "\n",
    "# Pay attention that gpt35 and gpt4 are chat based llms\n",
    "llm35 =  AzureChatOpenAI(\n",
    "    openai_api_version=\"2023-03-15-preview\",\n",
    "    deployment_name=\"Gpt35\", \n",
    "    model_name=\"gpt-35-turbo\"\n",
    ")\n",
    "\n",
    "llm4 =  AzureChatOpenAI(\n",
    "    openai_api_version=\"2023-03-15-preview\",\n",
    "    deployment_name=\"Gpt4\", \n",
    "    model_name=\"gpt-4\"\n",
    ")\n"
   ]
  },
  {
   "cell_type": "code",
   "execution_count": 6,
   "metadata": {},
   "outputs": [
    {
     "name": "stdout",
     "output_type": "stream",
     "text": [
      "davinci\n",
      " The meaning of life is subjective and can vary from person to person. For some, the meaning of life may be to live life to the fullest and find joy in each day. For others, the meaning of life may be to make a positive impact on the world and leave a lasting legacy. Ultimately, the meaning of life is something for each individual to determine for themselves.\n",
      "gpt35\n",
      "As an AI language model, I do not have a personal belief system or value judgments. The meaning of life is subjective and varies from person to person. Some may believe it is to find happiness, others may think it is to fulfill a specific purpose or goal, and others may believe it is to connect with a higher power or spiritual entity. Ultimately, it is up to each individual to determine their own meaning and purpose in life.\n",
      "gpt4\n",
      "The meaning of life is a philosophical question and has been debated for centuries. It can be interpreted in various ways, such as finding one's purpose, pursuing happiness, or contributing to the greater good. Ultimately, the meaning of life is subjective and may vary from person to person based on their beliefs and values.\n"
     ]
    }
   ],
   "source": [
    "from langchain import LLMChain\n",
    "from langchain import PromptTemplate\n",
    "\n",
    "template = \"\"\"Question: {question}\n",
    "\n",
    "Answer: \"\"\"\n",
    "prompt = PromptTemplate(\n",
    "        template=template,\n",
    "    input_variables=['question']\n",
    ")\n",
    "\n",
    "# user question\n",
    "llm_chain = LLMChain(\n",
    "    prompt=prompt,\n",
    "    llm=llm\n",
    ")\n",
    "\n",
    "print (\"davinci\")\n",
    "print(llm_chain.run(\"What is the meaning of life?\"))\n",
    "\n",
    "llm_chain35 = LLMChain(\n",
    "    prompt=prompt,\n",
    "    llm=llm35\n",
    ")\n",
    "\n",
    "print(\"gpt35\")\n",
    "print(llm_chain35.run(\"What is the meaning of life?\"))\n",
    "\n",
    "llm_chain4 = LLMChain(\n",
    "    prompt=prompt,\n",
    "    llm=llm4\n",
    ")\n",
    "\n",
    "print(\"gpt4\")\n",
    "print(llm_chain4.run(\"What is the meaning of life?\"))"
   ]
  },
  {
   "cell_type": "code",
   "execution_count": 11,
   "metadata": {},
   "outputs": [],
   "source": [
    "\n",
    "\n",
    "from langchain import SerpAPIWrapper\n",
    "import os\n",
    "# initialize the search chain\n",
    "search = SerpAPIWrapper(serpapi_api_key=os.getenv(\"SERPAPI_API_KEY\"))\n",
    "\n",
    "# create a search tool\n",
    "tools = [\n",
    "    Tool(\n",
    "        name=\"Intermediate Answer\",\n",
    "        func=search.run,\n",
    "        description='google search'\n",
    "    )\n",
    "]\n",
    "\n",
    "# initialize the search enabled agent\n",
    "self_ask_with_search = initialize_agent(\n",
    "    tools,\n",
    "    llm, #llm4 or llm35,\n",
    "    agent=\"self-ask-with-search\",\n",
    "    verbose=True\n",
    ")\n"
   ]
  },
  {
   "cell_type": "code",
   "execution_count": 12,
   "metadata": {},
   "outputs": [
    {
     "name": "stdout",
     "output_type": "stream",
     "text": [
      "\n",
      "\n",
      "\u001b[1m> Entering new  chain...\u001b[0m\n",
      "\u001b[32;1m\u001b[1;3mYes.\n",
      "Follow up: How many Star Wars movies has Harrison Ford appeared in?\u001b[0m\n",
      "Intermediate answer: \u001b[36;1m\u001b[1;3mHarrison Ford is an American actor known for his portrayal of Han Solo in Star Wars Episode IV: A New Hope, Star Wars Episode V: The Empire Strikes Back, ...\u001b[0m\n",
      "\u001b[32;1m\u001b[1;3mStar Wars Episode VI: Return of the Jedi, and Star Wars Episode VII: The Force Awakens.\n",
      "Follow up: What are the titles of these movies?\u001b[0m\n",
      "Intermediate answer: \u001b[36;1m\u001b[1;3mComedy, Crime, Documentary, Drama ; Family, Fantasy, Film-Noir, Game-Show ; History, Horror, Music, Musical.\u001b[0m\n",
      "\u001b[32;1m\u001b[1;3mSo the final answer is: Harrison Ford appeared in 4 Star Wars movies - Star Wars Episode IV: A New Hope, Star Wars Episode V: The Empire Strikes Back, Star Wars Episode VI: Return of the Jedi, and Star Wars Episode VII: The Force Awakens.\u001b[0m\n",
      "\n",
      "\u001b[1m> Finished chain.\u001b[0m\n"
     ]
    },
    {
     "data": {
      "text/plain": [
       "{'input': 'how many episodes of Star Wars contains Harrison Ford as actor and which are the titles?',\n",
       " 'output': 'Harrison Ford appeared in 4 Star Wars movies - Star Wars Episode IV: A New Hope, Star Wars Episode V: The Empire Strikes Back, Star Wars Episode VI: Return of the Jedi, and Star Wars Episode VII: The Force Awakens.'}"
      ]
     },
     "execution_count": 12,
     "metadata": {},
     "output_type": "execute_result"
    }
   ],
   "source": [
    "self_ask_with_search(\n",
    "    \"how many episodes of Star Wars contains Harrison Ford as actor and which are the titles?\"\n",
    ")\n"
   ]
  }
 ],
 "metadata": {
  "kernelspec": {
   "display_name": "langchain",
   "language": "python",
   "name": "langchain"
  },
  "language_info": {
   "codemirror_mode": {
    "name": "ipython",
    "version": 3
   },
   "file_extension": ".py",
   "mimetype": "text/x-python",
   "name": "python",
   "nbconvert_exporter": "python",
   "pygments_lexer": "ipython3",
   "version": "3.10.10"
  },
  "orig_nbformat": 4
 },
 "nbformat": 4,
 "nbformat_minor": 2
}
