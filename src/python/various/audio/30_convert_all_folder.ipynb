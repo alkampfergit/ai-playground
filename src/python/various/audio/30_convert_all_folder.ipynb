{
 "cells": [
  {
   "cell_type": "code",
   "execution_count": 5,
   "metadata": {},
   "outputs": [],
   "source": [
    "import whisper\n",
    "from pprint import pprint\n",
    "import torch\n",
    "\n",
    "modelName = \"medium\"\n",
    "# Load the model\n",
    "# model = whisper.load_model(\"medium\")\n",
    "model = whisper.load_model(modelName)\n",
    "\n",
    "print(f\"CUDA={torch.cuda.is_available()}\")\n"
   ]
  },
  {
   "cell_type": "code",
   "execution_count": 6,
   "metadata": {},
   "outputs": [],
   "source": [
    "# Now I need to scan a folder and find all the files that contains files with trec extensions\n",
    "import os\n",
    "import re\n",
    "\n",
    "# Define the folder to scan\n",
    "folder = \"S:\\\\OneDrive\\\\Documenti\\\\ordine_ingegneri\\\\Forensics\"\n",
    "\n",
    "# Define the regex to find the files\n",
    "pattern = re.compile(r\".*\\.trec$\")\n",
    "files = []\n",
    "for root, dirs, filenames in os.walk(folder):\n",
    "    for filename in filenames:\n",
    "        if pattern.match(filename):\n",
    "            files.append(os.path.join(root, filename))\n",
    "\n",
    "# Dump all file names\n",
    "pprint(files)"
   ]
  },
  {
   "cell_type": "code",
   "execution_count": 7,
   "metadata": {},
   "outputs": [],
   "source": [
    "# Now Use ffmpeg to extract audio from these files. Iterate all the files and generate a file name with wav extension\n",
    "import subprocess\n",
    "audiofiles = []\n",
    "for file in files:\n",
    "    # Generate the output file name\n",
    "    output_file = file.replace(\".trec\", \".wav\")\n",
    "\n",
    "    # If a previous file exists delete it\n",
    "    if os.path.exists(output_file):\n",
    "        os.remove(output_file)\n",
    "        \n",
    "    # Execute the command\n",
    "    command = f\"ffmpeg -i {file} -vn -acodec pcm_s16le -ar 44100 -ac 2 {output_file}\"\n",
    "    print(command)\n",
    "    subprocess.run(command, shell=True)\n",
    "    audiofiles.append(output_file)"
   ]
  },
  {
   "cell_type": "code",
   "execution_count": 8,
   "metadata": {},
   "outputs": [],
   "source": [
    "output_file = folder + f\"/{modelName}_output.txt\"\n",
    "# if file output extsts delete\n",
    "if os.path.exists(output_file):\n",
    "    os.remove(output_file)\n",
    "\n",
    "with open(output_file, \"w\") as f:\n",
    "\n",
    "    for file in audiofiles:\n",
    "        print(f\"Processing file {file}\")\n",
    "\n",
    "        single_segment_output_file = file.replace(\".wav\", f\".{modelName}.txt\")\n",
    "        transcription_string = \"\"\n",
    "\n",
    "        # if output file exists load content into transcription_string\n",
    "        if os.path.exists(single_segment_output_file):\n",
    "            print (f\"File {single_segment_output_file} exists. Loading content\")\n",
    "            with open(single_segment_output_file, \"r\") as f2:\n",
    "                transcription_string = f2.read()\n",
    "        else:\n",
    "            # Transcribe the file\n",
    "            print (f\"Trnscribe file {file} with whisper\")\n",
    "            transcription_options = {\n",
    "                \"verbose\" : False,\n",
    "                \"task\": \"transcribe\"\n",
    "            }\n",
    "            transcription = model.transcribe(file, **transcription_options)\n",
    "            \n",
    "            for segment in transcription['segments']:\n",
    "                text = segment['text']\n",
    "                transcription_string += text + \"\\n\"\n",
    "\n",
    "            # write also in a transcription file with the same name of the wav file but extension txt\n",
    "            with open(single_segment_output_file, \"w\") as f2:\n",
    "                f2.write(transcription_string)\n",
    "\n",
    "        # Write the transcription to the file\n",
    "        f.write(f\"section {file}\\n\")\n",
    "        f.write(transcription_string)"
   ]
  },
  {
   "cell_type": "markdown",
   "metadata": {},
   "source": []
  }
 ],
 "metadata": {
  "kernelspec": {
   "display_name": "various",
   "language": "python",
   "name": "various"
  },
  "language_info": {
   "codemirror_mode": {
    "name": "ipython",
    "version": 3
   },
   "file_extension": ".py",
   "mimetype": "text/x-python",
   "name": "python",
   "nbconvert_exporter": "python",
   "pygments_lexer": "ipython3",
   "version": "3.12.4"
  }
 },
 "nbformat": 4,
 "nbformat_minor": 2
}
