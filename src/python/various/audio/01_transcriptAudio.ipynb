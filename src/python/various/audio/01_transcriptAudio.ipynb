{
 "cells": [
  {
   "cell_type": "code",
   "execution_count": 1,
   "metadata": {},
   "outputs": [],
   "source": [
    "\n",
    "import whisper\n",
    "from pprint import pprint\n",
    "\n",
    "# Load the model\n",
    "model = whisper.load_model(\"base\")\n"
   ]
  },
  {
   "cell_type": "code",
   "execution_count": 2,
   "metadata": {},
   "outputs": [
    {
     "name": "stderr",
     "output_type": "stream",
     "text": [
      "/Users/gianmariaricci/develop/github/ai-playground/src/python/langchainVarious/langchain/lib/python3.11/site-packages/whisper/transcribe.py:115: UserWarning: FP16 is not supported on CPU; using FP32 instead\n",
      "  warnings.warn(\"FP16 is not supported on CPU; using FP32 instead\")\n"
     ]
    },
    {
     "ename": "TypeError",
     "evalue": "DecodingOptions.__init__() got an unexpected keyword argument 'correct_spelling'",
     "output_type": "error",
     "traceback": [
      "\u001b[0;31m---------------------------------------------------------------------------\u001b[0m",
      "\u001b[0;31mTypeError\u001b[0m                                 Traceback (most recent call last)",
      "\u001b[1;32m/Users/gianmariaricci/develop/github/ai-playground/src/python/langchainVarious/audio/01_transcriptAudio.ipynb Cell 2\u001b[0m line \u001b[0;36m1\n\u001b[0;32m----> <a href='vscode-notebook-cell:/Users/gianmariaricci/develop/github/ai-playground/src/python/langchainVarious/audio/01_transcriptAudio.ipynb#X12sZmlsZQ%3D%3D?line=0'>1</a>\u001b[0m result \u001b[39m=\u001b[39m model\u001b[39m.\u001b[39;49mtranscribe(\u001b[39m\"\u001b[39;49m\u001b[39m/Users/gianmariaricci/Downloads/UpdatingSSH.wav\u001b[39;49m\u001b[39m\"\u001b[39;49m, correct_spelling\u001b[39m=\u001b[39;49m{\u001b[39m\"\u001b[39;49m\u001b[39mSSH\u001b[39;49m\u001b[39m\"\u001b[39;49m: \u001b[39m\"\u001b[39;49m\u001b[39mSecure Shell\u001b[39;49m\u001b[39m\"\u001b[39;49m})\n",
      "File \u001b[0;32m~/develop/github/ai-playground/src/python/langchainVarious/langchain/lib/python3.11/site-packages/whisper/transcribe.py:240\u001b[0m, in \u001b[0;36mtranscribe\u001b[0;34m(model, audio, verbose, temperature, compression_ratio_threshold, logprob_threshold, no_speech_threshold, condition_on_previous_text, initial_prompt, word_timestamps, prepend_punctuations, append_punctuations, **decode_options)\u001b[0m\n\u001b[1;32m    237\u001b[0m mel_segment \u001b[39m=\u001b[39m pad_or_trim(mel_segment, N_FRAMES)\u001b[39m.\u001b[39mto(model\u001b[39m.\u001b[39mdevice)\u001b[39m.\u001b[39mto(dtype)\n\u001b[1;32m    239\u001b[0m decode_options[\u001b[39m\"\u001b[39m\u001b[39mprompt\u001b[39m\u001b[39m\"\u001b[39m] \u001b[39m=\u001b[39m all_tokens[prompt_reset_since:]\n\u001b[0;32m--> 240\u001b[0m result: DecodingResult \u001b[39m=\u001b[39m decode_with_fallback(mel_segment)\n\u001b[1;32m    241\u001b[0m tokens \u001b[39m=\u001b[39m torch\u001b[39m.\u001b[39mtensor(result\u001b[39m.\u001b[39mtokens)\n\u001b[1;32m    243\u001b[0m \u001b[39mif\u001b[39;00m no_speech_threshold \u001b[39mis\u001b[39;00m \u001b[39mnot\u001b[39;00m \u001b[39mNone\u001b[39;00m:\n\u001b[1;32m    244\u001b[0m     \u001b[39m# no voice activity check\u001b[39;00m\n",
      "File \u001b[0;32m~/develop/github/ai-playground/src/python/langchainVarious/langchain/lib/python3.11/site-packages/whisper/transcribe.py:169\u001b[0m, in \u001b[0;36mtranscribe.<locals>.decode_with_fallback\u001b[0;34m(segment)\u001b[0m\n\u001b[1;32m    165\u001b[0m \u001b[39melse\u001b[39;00m:\n\u001b[1;32m    166\u001b[0m     \u001b[39m# disable best_of when t == 0\u001b[39;00m\n\u001b[1;32m    167\u001b[0m     kwargs\u001b[39m.\u001b[39mpop(\u001b[39m\"\u001b[39m\u001b[39mbest_of\u001b[39m\u001b[39m\"\u001b[39m, \u001b[39mNone\u001b[39;00m)\n\u001b[0;32m--> 169\u001b[0m options \u001b[39m=\u001b[39m DecodingOptions(\u001b[39m*\u001b[39;49m\u001b[39m*\u001b[39;49mkwargs, temperature\u001b[39m=\u001b[39;49mt)\n\u001b[1;32m    170\u001b[0m decode_result \u001b[39m=\u001b[39m model\u001b[39m.\u001b[39mdecode(segment, options)\n\u001b[1;32m    172\u001b[0m needs_fallback \u001b[39m=\u001b[39m \u001b[39mFalse\u001b[39;00m\n",
      "\u001b[0;31mTypeError\u001b[0m: DecodingOptions.__init__() got an unexpected keyword argument 'correct_spelling'"
     ]
    }
   ],
   "source": [
    "result = model.transcribe(\"/Users/gianmariaricci/Downloads/UpdatingSSH.wav\")\n"
   ]
  },
  {
   "cell_type": "code",
   "execution_count": 3,
   "metadata": {},
   "outputs": [
    {
     "name": "stdout",
     "output_type": "stream",
     "text": [
      "(' Hi and welcome again to a new video about Ubiki, in which I deal with a '\n",
      " 'question I got quite often and the question is why I cannot use advanced '\n",
      " 'shared features like SSHK stored in my Ubiki when I work in Windows, it '\n",
      " 'seems not supported. So what is the problem? This problem usually does not '\n",
      " 'happen in Linux because Linux notively has support for SSH. So when you '\n",
      " 'update your Linux machine, usually you will receive the latest version of '\n",
      " 'the Open SSH protocol that supports Ubiki and you have no problem. In '\n",
      " 'Windows, the situation is little different. Let me show you why. In the vast '\n",
      " 'majority of situations, the problem is not having the latest version of SSH. '\n",
      " 'And to verify this, open a Windows terminal and type SSH, sorry, SSH-capital '\n",
      " 'day. And if you did not ever install or upgrade SSH, this is the answer. The '\n",
      " 'answer is open SSH for Windows 8.6 and this is indeed too old to support '\n",
      " 'your Ubiki. Now the usual follow-up question is, I keep my Windows up to '\n",
      " 'date, I install all the operating system update. If you need the open SSH '\n",
      " \"part of the operating system, so it's supposed to be update with the \"\n",
      " 'standard Windows update program, the answer is no. If you go on the GitHub '\n",
      " 'repository of PowerShell, we in 32 open SSH, you can already see that the '\n",
      " 'release shows you that the latest version is indeed the 9.4 and it is '\n",
      " 'really, really much more recent than the 8.6. So why it is not automatically '\n",
      " 'updated? And the answer is because Microsoft changed it how it supports SSH, '\n",
      " 'so you now need to install the open SSH package separately as another as you '\n",
      " \"install other software in Windows. It's really supported by Microsoft, but \"\n",
      " \"it's not part of the standard update cycle of the operating system. The \"\n",
      " 'solution is really, really simple. You just open the terminal and you can '\n",
      " 'use Wingat, new Windows package manager to find the package that contains '\n",
      " 'the latest version. So you can search open SSH and look at the supported, '\n",
      " \"sorry, it's the Wingat search, open SSH and it will tell you that there is \"\n",
      " \"open SSH beta Microsoft open SSH.beta and even if it's a beta version, it's \"\n",
      " 'fully supported and it works perfectly and it should be the version that you '\n",
      " 'are going to install. So you can simply Wingat install Microsoft open SSH '\n",
      " 'and letting Wingat, sorry, beta and letting Wingat install everything for '\n",
      " 'you. So you just wait a little bit for the package to be installed and then '\n",
      " 'you will verify if the new version of SSH is indeed installed. If you type '\n",
      " 'SSH-capital v again to verify the version, you can verify that now you have '\n",
      " 'not anymore the 8.6 version, but you now have the Windows 9.4 version that '\n",
      " 'is updated and it fully supports your Ubiki. So before starting using SSH '\n",
      " 'functionalities on Windows, please just be sure you updated the SSH '\n",
      " 'protocol, the open SSH protocol to the latest version and thanks to Wingat, '\n",
      " 'it is just a one-line install instruction. And this concludes this video. I '\n",
      " \"hope you enjoyed it and I'm waiting you for the next one in the Ubiki \"\n",
      " 'series.')\n"
     ]
    }
   ],
   "source": [
    "# pprint(result)\n",
    "pprint(result[\"text\"])"
   ]
  },
  {
   "cell_type": "code",
   "execution_count": 4,
   "metadata": {},
   "outputs": [
    {
     "name": "stdout",
     "output_type": "stream",
     "text": [
      "44\n"
     ]
    }
   ],
   "source": [
    "pprint(len(result['segments']))"
   ]
  },
  {
   "cell_type": "code",
   "execution_count": 5,
   "metadata": {},
   "outputs": [
    {
     "name": "stdout",
     "output_type": "stream",
     "text": [
      "{'avg_logprob': -0.24718367258707682,\n",
      " 'compression_ratio': 1.5462555066079295,\n",
      " 'end': 9.200000000000001,\n",
      " 'id': 0,\n",
      " 'no_speech_prob': 0.16524115204811096,\n",
      " 'seek': 0,\n",
      " 'start': 0.0,\n",
      " 'temperature': 0.0,\n",
      " 'text': ' Hi and welcome again to a new video about Ubiki, in which I deal '\n",
      "         'with a question I got quite often',\n",
      " 'tokens': [50364,\n",
      "            2421,\n",
      "            293,\n",
      "            2928,\n",
      "            797,\n",
      "            281,\n",
      "            257,\n",
      "            777,\n",
      "            960,\n",
      "            466,\n",
      "            30230,\n",
      "            9850,\n",
      "            11,\n",
      "            294,\n",
      "            597,\n",
      "            286,\n",
      "            2028,\n",
      "            365,\n",
      "            257,\n",
      "            1168,\n",
      "            286,\n",
      "            658,\n",
      "            1596,\n",
      "            2049,\n",
      "            50824]}\n"
     ]
    }
   ],
   "source": [
    "# now print the first segment to see what is in the segment\n",
    "pprint(result['segments'][0])"
   ]
  },
  {
   "cell_type": "code",
   "execution_count": 6,
   "metadata": {},
   "outputs": [
    {
     "name": "stdout",
     "output_type": "stream",
     "text": [
      "0\t9\t Hi and welcome again to a new video about Ubiki, in which I deal with a question I got quite often\n",
      "9\t18\t and the question is why I cannot use advanced shared features like SSHK stored in my Ubiki\n",
      "18\t20\t when I work in Windows, it seems not supported.\n",
      "20\t22\t So what is the problem?\n",
      "22\t29\t This problem usually does not happen in Linux because Linux notively has support for SSH.\n",
      "29\t35\t So when you update your Linux machine, usually you will receive the latest version of the\n",
      "35\t40\t Open SSH protocol that supports Ubiki and you have no problem.\n",
      "40\t43\t In Windows, the situation is little different.\n",
      "43\t45\t Let me show you why.\n",
      "45\t51\t In the vast majority of situations, the problem is not having the latest version of SSH.\n",
      "51\t60\t And to verify this, open a Windows terminal and type SSH, sorry, SSH-capital day.\n",
      "60\t66\t And if you did not ever install or upgrade SSH, this is the answer.\n",
      "66\t75\t The answer is open SSH for Windows 8.6 and this is indeed too old to support your Ubiki.\n",
      "75\t81\t Now the usual follow-up question is, I keep my Windows up to date, I install all the\n",
      "81\t83\t operating system update.\n",
      "83\t89\t If you need the open SSH part of the operating system, so it's supposed to be update with\n",
      "89\t95\t the standard Windows update program, the answer is no.\n",
      "95\t102\t If you go on the GitHub repository of PowerShell, we in 32 open SSH, you can already see that\n",
      "102\t110\t the release shows you that the latest version is indeed the 9.4 and it is really, really\n",
      "110\t113\t much more recent than the 8.6.\n",
      "113\t117\t So why it is not automatically updated?\n",
      "117\t123\t And the answer is because Microsoft changed it how it supports SSH, so you now need to\n",
      "123\t131\t install the open SSH package separately as another as you install other software in Windows.\n",
      "131\t136\t It's really supported by Microsoft, but it's not part of the standard update cycle of\n",
      "136\t139\t the operating system.\n",
      "139\t141\t The solution is really, really simple.\n",
      "141\t148\t You just open the terminal and you can use Wingat, new Windows package manager to find\n",
      "148\t151\t the package that contains the latest version.\n",
      "151\t158\t So you can search open SSH and look at the supported, sorry, it's the Wingat search, open\n",
      "158\t165\t SSH and it will tell you that there is open SSH beta Microsoft open SSH.beta and even if\n",
      "165\t169\t it's a beta version, it's fully supported and it works perfectly and it should be the\n",
      "169\t172\t version that you are going to install.\n",
      "172\t181\t So you can simply Wingat install Microsoft open SSH and letting Wingat, sorry, beta and\n",
      "181\t185\t letting Wingat install everything for you.\n",
      "185\t190\t So you just wait a little bit for the package to be installed and then you will verify if\n",
      "190\t196\t the new version of SSH is indeed installed.\n",
      "196\t204\t If you type SSH-capital v again to verify the version, you can verify that now you have\n",
      "204\t211\t not anymore the 8.6 version, but you now have the Windows 9.4 version that is updated\n",
      "211\t214\t and it fully supports your Ubiki.\n",
      "214\t221\t So before starting using SSH functionalities on Windows, please just be sure you updated\n",
      "221\t228\t the SSH protocol, the open SSH protocol to the latest version and thanks to Wingat, it\n",
      "228\t234\t is just a one-line install instruction.\n",
      "234\t236\t And this concludes this video.\n",
      "236\t240\t I hope you enjoyed it and I'm waiting you for the next one in the Ubiki series.\n"
     ]
    }
   ],
   "source": [
    "# now print all segments, for each segment I'm interested in start, end, and the text\n",
    "for segment in result['segments']:\n",
    "    start = segment['start']\n",
    "    end = segment['end']\n",
    "    text = segment['text']\n",
    "    print(f\"{start:.0f}\\t{end:.0f}\\t{text}\")\n"
   ]
  },
  {
   "cell_type": "markdown",
   "metadata": {},
   "source": [
    "### Old test code trying pad_or_trim"
   ]
  },
  {
   "cell_type": "code",
   "execution_count": null,
   "metadata": {},
   "outputs": [],
   "source": [
    "\n",
    "# Load the audio file and process it with a sliding 30-second window\n",
    "audio = whisper.load_audio(\"/Users/gianmariaricci/Downloads/UpdatingSSH.wav\")\n",
    "audio = whisper.pad_or_trim(audio)\n",
    "\n",
    "# Transcribe the audio\n",
    "result = model.transcribe(audio)\n",
    "# pprint(result)\n",
    "\n",
    "pprint(f\"length: {len(result['text'])}\")\n",
    "pprint(result[\"text\"])\n"
   ]
  }
 ],
 "metadata": {
  "kernelspec": {
   "display_name": "langchain_experiments",
   "language": "python",
   "name": "langchain_experiments"
  },
  "language_info": {
   "codemirror_mode": {
    "name": "ipython",
    "version": 3
   },
   "file_extension": ".py",
   "mimetype": "text/x-python",
   "name": "python",
   "nbconvert_exporter": "python",
   "pygments_lexer": "ipython3",
   "version": "3.11.6"
  }
 },
 "nbformat": 4,
 "nbformat_minor": 2
}
