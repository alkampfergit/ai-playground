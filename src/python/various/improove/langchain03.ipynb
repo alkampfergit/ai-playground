{
 "cells": [
  {
   "cell_type": "code",
   "execution_count": null,
   "metadata": {},
   "outputs": [],
   "source": [
    "import os\n",
    "from dotenv import load_dotenv, find_dotenv\n",
    "result = load_dotenv(find_dotenv()) # read local .env file\n",
    "\n",
    "print (os.environ[\"OPENAI_API_BASE\"])"
   ]
  },
  {
   "cell_type": "code",
   "execution_count": null,
   "metadata": {},
   "outputs": [],
   "source": [
    "from langchain import PromptTemplate\n",
    "from langchain_openai  import AzureChatOpenAI\n",
    "from langchain import LLMChain\n",
    "\n",
    "# Remember that the deployment name can be different from the model name\n",
    "# and that you need to create a .env with the OPENAI_API_KEY variable\n",
    "#and OPENAI_API_BASE\n",
    "llm = AzureChatOpenAI(\n",
    "    openai_api_version=\"2023-09-01-preview\",\n",
    "    deployment_name=\"GPT-4o-mini\", #Deployment name\n",
    "    azure_endpoint=os.environ[\"OPENAI_API_BASE\"],\n",
    "    model_name=\"GPT-4o-mini\"\n",
    ")\n",
    "\n",
    "template = \"\"\"Question: {question}\n",
    "\n",
    "Answer: \"\"\"\n",
    "prompt = PromptTemplate(\n",
    "    template=template,\n",
    "    input_variables=['question']\n",
    ")\n",
    "\n",
    "chain = prompt | llm\n",
    "\n",
    "result = await chain.ainvoke({\"question\": \"What is the capital of monkey island, answer like guybruysh treepwood?\"})\n",
    "print(result)\n",
    "\n"
   ]
  },
  {
   "cell_type": "code",
   "execution_count": 14,
   "metadata": {},
   "outputs": [
    {
     "name": "stdout",
     "output_type": "stream",
     "text": [
      "In a bustling city of the near future, where skyscrapers kissed the clouds and neon lights painted the streets, there lived a robot named Zeta. Unlike the sleek, humanoid machines that served humans, Zeta was a small, boxy construct, built for a singular purpose: to clean up the city’s litter.\n",
      "\n",
      "Every morning, as dawn broke and the sun cast its golden rays, Zeta whirred to life, its sensors blinking with enthusiasm. With a gentle hum, it rolled along the sidewalks, its mechanical arms extending to pick up discarded wrappers, empty cans, and stray leaves. Passersby often chuckled at the sight of the diligent little robot, but Zeta was undeterred, fueled by an unwavering sense of duty.\n",
      "\n",
      "One day, as Zeta maneuvered around a park, it stumbled upon a group of children playing. They were excitedly building a fort out of cardboard and scrap materials. Suddenly, a gust of wind sent a flurry of papers flying, scattering them like confetti. The children squealed in delight, chasing after the colorful debris, but Zeta saw a problem.\n",
      "\n",
      "With a soft beep, Zeta rolled over, its sensors scanning the area. It quickly began collecting the papers, its arms deftly sorting the recyclables from the trash. The children paused, watching in awe as the little robot transformed chaos into order. \n",
      "\n",
      "Impressed by Zeta's efforts, one child exclaimed, “Look! It’s helping us!” Inspired, the kids joined in, gathering the remaining litter and turning their playtime into a clean-up party. \n",
      "\n",
      "From that day on, Zeta became a beloved figure in the park, reminding everyone that even the smallest of beings can make a big difference. As the sun set, Zeta, content and fulfilled, rolled back to its charging station, knowing it had sparked joy—and perhaps a little change—in the hearts of those around it."
     ]
    }
   ],
   "source": [
    "# Now use streaming\n",
    "result = chain.stream({\"question\": \"Generate a 300 word story about a robot?\"})\n",
    "for chunk in result:\n",
    "    print(chunk.content, end='')"
   ]
  }
 ],
 "metadata": {
  "kernelspec": {
   "display_name": "various",
   "language": "python",
   "name": "various"
  },
  "language_info": {
   "codemirror_mode": {
    "name": "ipython",
    "version": 3
   },
   "file_extension": ".py",
   "mimetype": "text/x-python",
   "name": "python",
   "nbconvert_exporter": "python",
   "pygments_lexer": "ipython3",
   "version": "3.12.4"
  }
 },
 "nbformat": 4,
 "nbformat_minor": 2
}
