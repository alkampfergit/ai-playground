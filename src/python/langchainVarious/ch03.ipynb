{
 "cells": [
  {
   "cell_type": "code",
   "execution_count": 5,
   "metadata": {},
   "outputs": [
    {
     "name": "stdout",
     "output_type": "stream",
     "text": [
      "'https://alkopenai.openai.azure.com/'\n"
     ]
    }
   ],
   "source": [
    "from dotenv import load_dotenv, find_dotenv\n",
    "from pprint import pprint\n",
    "import os\n",
    "env = load_dotenv(find_dotenv()) # read local .env file\n",
    "pprint(os.environ.get(\"OPENAI_API_BASE\"))"
   ]
  },
  {
   "cell_type": "code",
   "execution_count": 6,
   "metadata": {},
   "outputs": [],
   "source": [
    "from langchain.llms import AzureOpenAI\n",
    "from langchain.chains import ConversationChain\n",
    "\n",
    "# first initialize the large language model\n",
    "llm = AzureOpenAI(\n",
    "\ttemperature=0,\n",
    "\topenai_api_version=\"2023-03-15-preview\",\n",
    "    deployment_name=\"Davinci003\", \n",
    "\tmodel_name=\"text-davinci-003\"\n",
    ")\n",
    "\n",
    "# now initialize the conversation chain\n",
    "conversation = ConversationChain(llm=llm)\n"
   ]
  },
  {
   "cell_type": "code",
   "execution_count": 4,
   "metadata": {},
   "outputs": [
    {
     "name": "stdout",
     "output_type": "stream",
     "text": [
      "The following is a friendly conversation between a human and an AI. The AI is talkative and provides lots of specific details from its context. If the AI does not know the answer to a question, it truthfully says it does not know.\n",
      "\n",
      "Current conversation:\n",
      "{history}\n",
      "Human: {input}\n",
      "AI:\n"
     ]
    }
   ],
   "source": [
    "print(conversation.prompt.template)"
   ]
  },
  {
   "cell_type": "code",
   "execution_count": 5,
   "metadata": {},
   "outputs": [],
   "source": [
    "from langchain.chains.conversation.memory import ConversationBufferMemory\n",
    "\n",
    "conversation_buf = ConversationChain(\n",
    "    llm=llm,\n",
    "    memory=ConversationBufferMemory()\n",
    ")"
   ]
  },
  {
   "cell_type": "code",
   "execution_count": 6,
   "metadata": {},
   "outputs": [
    {
     "data": {
      "text/plain": [
       "{'input': 'Good morning AI!',\n",
       " 'history': '',\n",
       " 'response': \" Good morning! It's a beautiful day today, isn't it? How can I help you?\"}"
      ]
     },
     "execution_count": 6,
     "metadata": {},
     "output_type": "execute_result"
    }
   ],
   "source": [
    "conversation_buf(\"Good morning AI!\")"
   ]
  },
  {
   "cell_type": "code",
   "execution_count": 7,
   "metadata": {},
   "outputs": [
    {
     "data": {
      "text/plain": [
       "{'input': 'My name is Gian Maria!',\n",
       " 'history': \"Human: Good morning AI!\\nAI:  Good morning! It's a beautiful day today, isn't it? How can I help you?\",\n",
       " 'response': ' Nice to meet you Gian Maria! What can I do for you today?'}"
      ]
     },
     "execution_count": 7,
     "metadata": {},
     "output_type": "execute_result"
    }
   ],
   "source": [
    "conversation_buf(\"My name is Gian Maria!\")"
   ]
  },
  {
   "cell_type": "code",
   "execution_count": 8,
   "metadata": {},
   "outputs": [
    {
     "data": {
      "text/plain": [
       "{'input': 'What is my name and what time is it?',\n",
       " 'history': \"Human: Good morning AI!\\nAI:  Good morning! It's a beautiful day today, isn't it? How can I help you?\\nHuman: My name is Gian Maria!\\nAI:  Nice to meet you Gian Maria! What can I do for you today?\",\n",
       " 'response': ' Your name is Gian Maria and it is currently 10:30am.'}"
      ]
     },
     "execution_count": 8,
     "metadata": {},
     "output_type": "execute_result"
    }
   ],
   "source": [
    "conversation_buf(\"What is my name and what time is it?\")"
   ]
  },
  {
   "cell_type": "code",
   "execution_count": 9,
   "metadata": {},
   "outputs": [],
   "source": [
    "from langchain.callbacks import get_openai_callback\n",
    "from pprint import pprint\n",
    "def count_tokens(chain, query):\n",
    "    with get_openai_callback() as cb:\n",
    "        result = chain.run(query)\n",
    "        pprint(f'Spent a total of {cb.total_tokens} tokens')\n",
    "\n",
    "    return result"
   ]
  },
  {
   "cell_type": "code",
   "execution_count": 13,
   "metadata": {},
   "outputs": [
    {
     "name": "stdout",
     "output_type": "stream",
     "text": [
      "Spent a total of 555 tokens\n",
      "(' Yes, that is a great idea! Large Language Models can be used to integrate '\n",
      " 'external knowledge by using the model to generate responses based on the '\n",
      " 'external knowledge. For example, you can use the model to identify patterns '\n",
      " 'in the external knowledge and use those patterns to generate more accurate '\n",
      " 'responses. Additionally, you can use the model to identify relationships '\n",
      " 'between different pieces of external knowledge and use those relationships '\n",
      " 'to generate more meaningful responses.')\n"
     ]
    }
   ],
   "source": [
    "from pprint import pprint\n",
    "result = count_tokens(\n",
    "    conversation_buf, \n",
    "    \"My interest here is to explore the potential of integrating Large Language Models with external knowledge\"\n",
    ")\n",
    "pprint (result)"
   ]
  },
  {
   "cell_type": "code",
   "execution_count": 14,
   "metadata": {},
   "outputs": [
    {
     "name": "stdout",
     "output_type": "stream",
     "text": [
      "('Human: Good morning AI!\\n'\n",
      " \"AI:  Good morning! It's a beautiful day today, isn't it? How can I help \"\n",
      " 'you?\\n'\n",
      " 'Human: My name is Gian Maria!\\n'\n",
      " 'AI:  Nice to meet you Gian Maria! What can I do for you today?\\n'\n",
      " 'Human: What is my name and what time is it?\\n'\n",
      " 'AI:  Your name is Gian Maria and it is currently 10:30am.\\n'\n",
      " 'Human: My interest here is to explore the potential of integrating Large '\n",
      " 'Language Models with external knowledge\\n'\n",
      " 'AI:  Interesting! Large Language Models are a type of artificial '\n",
      " 'intelligence that can process natural language and generate meaningful '\n",
      " 'responses. They can be used to integrate external knowledge by using the '\n",
      " 'model to generate responses based on the external knowledge. For example, if '\n",
      " 'you have a large language model trained on a specific domain, you can use it '\n",
      " 'to generate responses based on the external knowledge in that domain.\\n'\n",
      " 'Human: My interest here is to explore the potential of integrating Large '\n",
      " 'Language Models with external knowledge\\n'\n",
      " 'AI:  Sure, that sounds like a great idea! Large Language Models can be used '\n",
      " 'to integrate external knowledge by using the model to generate responses '\n",
      " 'based on the external knowledge. For example, if you have a large language '\n",
      " 'model trained on a specific domain, you can use it to generate responses '\n",
      " 'based on the external knowledge in that domain. Additionally, you can use '\n",
      " 'the model to identify patterns in the external knowledge and use those '\n",
      " 'patterns to generate more accurate responses.\\n'\n",
      " 'Human: My interest here is to explore the potential of integrating Large '\n",
      " 'Language Models with external knowledge\\n'\n",
      " 'AI:  Absolutely! Large Language Models can be used to integrate external '\n",
      " 'knowledge by using the model to generate responses based on the external '\n",
      " 'knowledge. For example, you can use the model to identify patterns in the '\n",
      " 'external knowledge and use those patterns to generate more accurate '\n",
      " 'responses. Additionally, you can use the model to identify relationships '\n",
      " 'between different pieces of external knowledge and use those relationships '\n",
      " 'to generate more meaningful responses.\\n'\n",
      " 'Human: My interest here is to explore the potential of integrating Large '\n",
      " 'Language Models with external knowledge\\n'\n",
      " 'AI:  Yes, that is a great idea! Large Language Models can be used to '\n",
      " 'integrate external knowledge by using the model to generate responses based '\n",
      " 'on the external knowledge. For example, you can use the model to identify '\n",
      " 'patterns in the external knowledge and use those patterns to generate more '\n",
      " 'accurate responses. Additionally, you can use the model to identify '\n",
      " 'relationships between different pieces of external knowledge and use those '\n",
      " 'relationships to generate more meaningful responses.')\n"
     ]
    }
   ],
   "source": [
    "pprint(conversation_buf.memory.buffer)"
   ]
  },
  {
   "cell_type": "code",
   "execution_count": 17,
   "metadata": {},
   "outputs": [],
   "source": [
    "from langchain.chains.conversation.memory import ConversationSummaryMemory\n",
    "\n",
    "conversation_sum = ConversationChain(\n",
    "\tllm=llm,\n",
    "\tmemory=ConversationSummaryMemory(llm=llm)\n",
    ")\n"
   ]
  },
  {
   "cell_type": "markdown",
   "metadata": {},
   "source": [
    "Summary memory has a reference to a llm because it will use that llm to summarize the prompt memory"
   ]
  },
  {
   "cell_type": "code",
   "execution_count": 18,
   "metadata": {},
   "outputs": [
    {
     "name": "stdout",
     "output_type": "stream",
     "text": [
      "('Progressively summarize the lines of conversation provided, adding onto the '\n",
      " 'previous summary returning a new summary.\\n'\n",
      " '\\n'\n",
      " 'EXAMPLE\\n'\n",
      " 'Current summary:\\n'\n",
      " 'The human asks what the AI thinks of artificial intelligence. The AI thinks '\n",
      " 'artificial intelligence is a force for good.\\n'\n",
      " '\\n'\n",
      " 'New lines of conversation:\\n'\n",
      " 'Human: Why do you think artificial intelligence is a force for good?\\n'\n",
      " 'AI: Because artificial intelligence will help humans reach their full '\n",
      " 'potential.\\n'\n",
      " '\\n'\n",
      " 'New summary:\\n'\n",
      " 'The human asks what the AI thinks of artificial intelligence. The AI thinks '\n",
      " 'artificial intelligence is a force for good because it will help humans '\n",
      " 'reach their full potential.\\n'\n",
      " 'END OF EXAMPLE\\n'\n",
      " '\\n'\n",
      " 'Current summary:\\n'\n",
      " '{summary}\\n'\n",
      " '\\n'\n",
      " 'New lines of conversation:\\n'\n",
      " '{new_lines}\\n'\n",
      " '\\n'\n",
      " 'New summary:')\n"
     ]
    }
   ],
   "source": [
    "pprint(conversation_sum.memory.prompt.template)"
   ]
  }
 ],
 "metadata": {
  "kernelspec": {
   "display_name": "langchain",
   "language": "python",
   "name": "langchain"
  },
  "language_info": {
   "codemirror_mode": {
    "name": "ipython",
    "version": 3
   },
   "file_extension": ".py",
   "mimetype": "text/x-python",
   "name": "python",
   "nbconvert_exporter": "python",
   "pygments_lexer": "ipython3",
   "version": "3.9.6"
  },
  "orig_nbformat": 4
 },
 "nbformat": 4,
 "nbformat_minor": 2
}
