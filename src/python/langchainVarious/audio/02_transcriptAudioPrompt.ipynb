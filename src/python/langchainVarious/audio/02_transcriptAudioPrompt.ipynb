{
 "cells": [
  {
   "cell_type": "code",
   "execution_count": 4,
   "metadata": {},
   "outputs": [
    {
     "name": "stderr",
     "output_type": "stream",
     "text": [
      "100%|█████████████████████████████████████| 1.42G/1.42G [09:27<00:00, 2.69MiB/s]\n"
     ]
    }
   ],
   "source": [
    "\n",
    "import whisper\n",
    "from pprint import pprint\n",
    "\n",
    "# Load the model tiny, base, medium, large, small.en, medium.en, large.en, etc etc\n",
    "model = whisper.load_model(\"medium.en\")\n"
   ]
  },
  {
   "cell_type": "code",
   "execution_count": 5,
   "metadata": {},
   "outputs": [
    {
     "name": "stderr",
     "output_type": "stream",
     "text": [
      "/Users/gianmariaricci/develop/github/ai-playground/src/python/langchainVarious/langchain/lib/python3.11/site-packages/whisper/transcribe.py:115: UserWarning: FP16 is not supported on CPU; using FP32 instead\n",
      "  warnings.warn(\"FP16 is not supported on CPU; using FP32 instead\")\n"
     ]
    }
   ],
   "source": [
    "transcription_options = {\n",
    "    \"task\": \"transcribe\",\n",
    "    \"prompt\": \"Try to correct mispelled words like Yubikey \"  # Add your prompt here\n",
    "}\n",
    "result = model.transcribe(\"/Users/gianmariaricci/Downloads/UpdatingSSH.wav\", **transcription_options)\n",
    "\n",
    "# result = model.transcribe(\"/Users/gianmariaricci/Downloads/UpdatingSSH.wav\", **transcription_options)\n"
   ]
  },
  {
   "cell_type": "code",
   "execution_count": 6,
   "metadata": {},
   "outputs": [
    {
     "name": "stdout",
     "output_type": "stream",
     "text": [
      "(' Hi and welcome again to a new video about Yubikey, in which I deal with a '\n",
      " 'question I got quite often, and the question is why I cannot use advanced '\n",
      " 'shared features like SSH key stored in my Yubikey when I work in Windows. It '\n",
      " 'seems not supported. So what is the problem? This problem usually does not '\n",
      " 'happen in Linux because Linux not evenly has a support for SSH. So when you '\n",
      " 'update your Linux machine, usually you will receive the latest version of '\n",
      " 'the openSSH protocol that supports Yubikey and you have no problem. In '\n",
      " 'Windows, the situation is a little different. Let me show you why. In the '\n",
      " 'vast majority of situations, the problem is not having the latest version of '\n",
      " 'SSH. And to verify this, open a Windows terminal and type SSH-B. And if you '\n",
      " 'did not ever install or upgrade SSH, this is the answer. The answer is '\n",
      " 'openSSH for Windows 8.6 and this is indeed too old to support your Yubikey. '\n",
      " 'Now the usual follow-up question is, I keep my Windows up to date, I install '\n",
      " \"all the other operating system updates, isn't it the openSSH part of the \"\n",
      " \"operating system? So it's supposed to be update with the standard Windows \"\n",
      " 'update program. The answer sadly is no. If you go on the GitHub repository '\n",
      " 'of PowerShell Win32 openSSH, you can really see that the releases shows you '\n",
      " 'that the latest version is indeed the 9.4 and it is really, really much more '\n",
      " 'recent than the 8.6. So why it is not automatically updated? And the answer '\n",
      " 'is because Microsoft changed how it supports SSH, so you now need to install '\n",
      " 'the openSSH package separately as you install other software in Windows. '\n",
      " \"It's really supported by Microsoft, but it's not part of the standard update \"\n",
      " 'cycle of the operating system. Luckily, the solution is really, really '\n",
      " 'simple. You just open the terminal and you can use Wingette, your Windows '\n",
      " 'package manager, to find the package that contains the latest version. So '\n",
      " \"you can search openSSH and look at the supported, sorry, it's the Wingette \"\n",
      " 'search, openSSH, and it will tell you that there is openSSH beta Microsoft '\n",
      " \"openSSH.beta. And even if it's a beta version, it's fully supported and it \"\n",
      " \"works perfectly and it should be the version that you're going to install. \"\n",
      " 'So you can simply Wingette install Microsoft openSSH and letting Wingette '\n",
      " 'install everything for you. So you just wait a little bit for the package to '\n",
      " 'be installed and then you will verify if the new version of SSH is indeed '\n",
      " 'installed. If you type ssh-V again to verify the version, you can verify '\n",
      " 'that now you have not anymore the 8.6 version, but you now have the Windows '\n",
      " '9.4 version that is updated and it fully supports your YubiKey. So before '\n",
      " 'starting using SSH functionalities on Windows, please just be sure you '\n",
      " 'updated the SSH protocol, the openSSH protocol, to the latest version and '\n",
      " 'thanks to Wingette, it is just a one-line install instruction. And this '\n",
      " \"concludes this video. I hope you enjoyed it and I'm waiting for the next one \"\n",
      " 'in the YubiKey series.')\n"
     ]
    }
   ],
   "source": [
    "# pprint(result)\n",
    "pprint(result[\"text\"])"
   ]
  },
  {
   "cell_type": "code",
   "execution_count": 17,
   "metadata": {},
   "outputs": [
    {
     "name": "stdout",
     "output_type": "stream",
     "text": [
      "44\n"
     ]
    }
   ],
   "source": [
    "pprint(len(result['segments']))"
   ]
  },
  {
   "cell_type": "code",
   "execution_count": 18,
   "metadata": {},
   "outputs": [
    {
     "name": "stdout",
     "output_type": "stream",
     "text": [
      "{'avg_logprob': -0.24718367258707682,\n",
      " 'compression_ratio': 1.5462555066079295,\n",
      " 'end': 9.200000000000001,\n",
      " 'id': 0,\n",
      " 'no_speech_prob': 0.16524115204811096,\n",
      " 'seek': 0,\n",
      " 'start': 0.0,\n",
      " 'temperature': 0.0,\n",
      " 'text': ' Hi and welcome again to a new video about Ubiki, in which I deal '\n",
      "         'with a question I got quite often',\n",
      " 'tokens': [50364,\n",
      "            2421,\n",
      "            293,\n",
      "            2928,\n",
      "            797,\n",
      "            281,\n",
      "            257,\n",
      "            777,\n",
      "            960,\n",
      "            466,\n",
      "            30230,\n",
      "            9850,\n",
      "            11,\n",
      "            294,\n",
      "            597,\n",
      "            286,\n",
      "            2028,\n",
      "            365,\n",
      "            257,\n",
      "            1168,\n",
      "            286,\n",
      "            658,\n",
      "            1596,\n",
      "            2049,\n",
      "            50824]}\n"
     ]
    }
   ],
   "source": [
    "# now print the first segment to see what is in the segment\n",
    "pprint(result['segments'][0])"
   ]
  },
  {
   "cell_type": "code",
   "execution_count": 21,
   "metadata": {},
   "outputs": [
    {
     "name": "stdout",
     "output_type": "stream",
     "text": [
      "00:00\t Hi and welcome again to a new video about Ubiki, in which I deal with a question I got quite often\n",
      "00:09\t and the question is why I cannot use advanced shared features like SSHK stored in my Ubiki\n",
      "00:17\t when I work in Windows, it seems not supported.\n",
      "00:20\t So what is the problem?\n",
      "00:22\t This problem usually does not happen in Linux because Linux notively has support for SSH.\n",
      "00:28\t So when you update your Linux machine, usually you will receive the latest version of the\n",
      "00:34\t Open SSH protocol that supports Ubiki and you have no problem.\n",
      "00:40\t In Windows, the situation is little different.\n",
      "00:43\t Let me show you why.\n",
      "00:45\t In the vast majority of situations, the problem is not having the latest version of SSH.\n",
      "00:51\t And to verify this, open a Windows terminal and type SSH, sorry, SSH-capital day.\n",
      "00:59\t And if you did not ever install or upgrade SSH, this is the answer.\n",
      "01:06\t The answer is open SSH for Windows 8.6 and this is indeed too old to support your Ubiki.\n",
      "01:15\t Now the usual follow-up question is, I keep my Windows up to date, I install all the\n",
      "01:21\t operating system update.\n",
      "01:22\t If you need the open SSH part of the operating system, so it's supposed to be update with\n",
      "01:28\t the standard Windows update program, the answer is no.\n",
      "01:35\t If you go on the GitHub repository of PowerShell, we in 32 open SSH, you can already see that\n",
      "01:42\t the release shows you that the latest version is indeed the 9.4 and it is really, really\n",
      "01:49\t much more recent than the 8.6.\n",
      "01:52\t So why it is not automatically updated?\n",
      "01:57\t And the answer is because Microsoft changed it how it supports SSH, so you now need to\n",
      "02:03\t install the open SSH package separately as another as you install other software in Windows.\n",
      "02:11\t It's really supported by Microsoft, but it's not part of the standard update cycle of\n",
      "02:16\t the operating system.\n",
      "02:18\t The solution is really, really simple.\n",
      "02:21\t You just open the terminal and you can use Wingat, new Windows package manager to find\n",
      "02:28\t the package that contains the latest version.\n",
      "02:30\t So you can search open SSH and look at the supported, sorry, it's the Wingat search, open\n",
      "02:38\t SSH and it will tell you that there is open SSH beta Microsoft open SSH.beta and even if\n",
      "02:45\t it's a beta version, it's fully supported and it works perfectly and it should be the\n",
      "02:49\t version that you are going to install.\n",
      "02:52\t So you can simply Wingat install Microsoft open SSH and letting Wingat, sorry, beta and\n",
      "03:01\t letting Wingat install everything for you.\n",
      "03:04\t So you just wait a little bit for the package to be installed and then you will verify if\n",
      "03:10\t the new version of SSH is indeed installed.\n",
      "03:15\t If you type SSH-capital v again to verify the version, you can verify that now you have\n",
      "03:24\t not anymore the 8.6 version, but you now have the Windows 9.4 version that is updated\n",
      "03:31\t and it fully supports your Ubiki.\n",
      "03:33\t So before starting using SSH functionalities on Windows, please just be sure you updated\n",
      "03:41\t the SSH protocol, the open SSH protocol to the latest version and thanks to Wingat, it\n",
      "03:48\t is just a one-line install instruction.\n",
      "03:53\t And this concludes this video.\n",
      "03:55\t I hope you enjoyed it and I'm waiting you for the next one in the Ubiki series.\n"
     ]
    }
   ],
   "source": [
    "# now print all segments, for each segment I'm interested in start, end, and the text\n",
    "for segment in result['segments']:\n",
    "    start = segment['start']\n",
    "    end = segment['end']\n",
    "    text = segment['text']\n",
    "\n",
    "    # Now I need to convert the start value, expressed in seconds, to 00:00 format\n",
    "    # I can use the divmod function to get the minutes and seconds\n",
    "    minutes, seconds = divmod(start, 60)\n",
    "    # now I can use the format function to print the minutes and seconds in the format I want\n",
    "    print(f\"{str(int(minutes)).zfill(2)}:{str(int(seconds)).zfill(2)}\\t{text}\")\n"
   ]
  }
 ],
 "metadata": {
  "kernelspec": {
   "display_name": "langchain_experiments",
   "language": "python",
   "name": "langchain_experiments"
  },
  "language_info": {
   "codemirror_mode": {
    "name": "ipython",
    "version": 3
   },
   "file_extension": ".py",
   "mimetype": "text/x-python",
   "name": "python",
   "nbconvert_exporter": "python",
   "pygments_lexer": "ipython3",
   "version": "3.11.6"
  }
 },
 "nbformat": 4,
 "nbformat_minor": 2
}
