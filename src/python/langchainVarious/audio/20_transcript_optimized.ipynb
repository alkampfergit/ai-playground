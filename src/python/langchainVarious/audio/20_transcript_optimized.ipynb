{
 "cells": [
  {
   "cell_type": "code",
   "execution_count": 8,
   "metadata": {},
   "outputs": [
    {
     "name": "stderr",
     "output_type": "stream",
     "text": [
      "c:\\develop\\github\\ai-playground\\src\\python\\langchainVarious\\langchain\\lib\\site-packages\\whisper\\__init__.py:65: UserWarning: C:\\Users\\alkam\\.cache\\whisper\\large-v2.pt exists, but the SHA256 checksum does not match; re-downloading the file\n",
      "  warnings.warn(\n",
      "100%|█████████████████████████████████████| 2.87G/2.87G [08:12<00:00, 6.27MiB/s]\n"
     ]
    },
    {
     "name": "stdout",
     "output_type": "stream",
     "text": [
      "Detected language: Italian\n"
     ]
    },
    {
     "name": "stderr",
     "output_type": "stream",
     "text": [
      "100%|██████████| 916/916 [00:37<00:00, 24.68frames/s]"
     ]
    },
    {
     "name": "stdout",
     "output_type": "stream",
     "text": [
      "{'language': 'it',\n",
      " 'segments': [{'avg_logprob': -0.31159865856170654,\n",
      "               'compression_ratio': 1.393162393162393,\n",
      "               'end': 4.48,\n",
      "               'id': 0,\n",
      "               'no_speech_prob': 0.00798169057816267,\n",
      "               'seek': 0,\n",
      "               'start': 0.0,\n",
      "               'temperature': 0.0,\n",
      "               'text': ' volevo fare una prova di registrazione per capire se '\n",
      "                       'effettivamente quando vado',\n",
      "               'tokens': [50364,\n",
      "                          49877,\n",
      "                          3080,\n",
      "                          11994,\n",
      "                          2002,\n",
      "                          28959,\n",
      "                          1026,\n",
      "                          11376,\n",
      "                          424,\n",
      "                          19706,\n",
      "                          680,\n",
      "                          1410,\n",
      "                          621,\n",
      "                          369,\n",
      "                          1244,\n",
      "                          3093,\n",
      "                          23957,\n",
      "                          7770,\n",
      "                          371,\n",
      "                          1573,\n",
      "                          50588]},\n",
      "              {'avg_logprob': -0.31159865856170654,\n",
      "               'compression_ratio': 1.393162393162393,\n",
      "               'end': 8.58,\n",
      "               'id': 1,\n",
      "               'no_speech_prob': 0.00798169057816267,\n",
      "               'seek': 0,\n",
      "               'start': 4.48,\n",
      "               'temperature': 0.0,\n",
      "               'text': ' a convertire con il modello ottimizzato di openai '\n",
      "                       'whisper viene tradotto in',\n",
      "               'tokens': [50588,\n",
      "                          257,\n",
      "                          7620,\n",
      "                          621,\n",
      "                          416,\n",
      "                          1930,\n",
      "                          1072,\n",
      "                          11216,\n",
      "                          4337,\n",
      "                          31208,\n",
      "                          8072,\n",
      "                          2513,\n",
      "                          1026,\n",
      "                          1269,\n",
      "                          1301,\n",
      "                          26018,\n",
      "                          19561,\n",
      "                          2479,\n",
      "                          18838,\n",
      "                          294,\n",
      "                          50793]},\n",
      "              {'avg_logprob': -0.31159865856170654,\n",
      "               'compression_ratio': 1.393162393162393,\n",
      "               'end': 11.0,\n",
      "               'id': 2,\n",
      "               'no_speech_prob': 0.00798169057816267,\n",
      "               'seek': 0,\n",
      "               'start': 8.58,\n",
      "               'temperature': 0.0,\n",
      "               'text': ' inglese',\n",
      "               'tokens': [50793, 3957, 904, 68, 50914]}],\n",
      " 'text': ' volevo fare una prova di registrazione per capire se effettivamente '\n",
      "         'quando vado a convertire con il modello ottimizzato di openai '\n",
      "         'whisper viene tradotto in inglese'}\n"
     ]
    },
    {
     "name": "stderr",
     "output_type": "stream",
     "text": [
      "\n"
     ]
    }
   ],
   "source": [
    "import whisper\n",
    "from pprint import pprint\n",
    "\n",
    "file = \"s:\\\\temp\\\\recording.wav\"\n",
    "model = whisper.load_model(\"large-v2\")\n",
    "result = model.transcribe(\n",
    "    file, \n",
    "    fp16=False,\n",
    "    verbose=False)\n",
    "\n",
    "pprint(result)"
   ]
  },
  {
   "cell_type": "code",
   "execution_count": 3,
   "metadata": {},
   "outputs": [
    {
     "name": "stderr",
     "output_type": "stream",
     "text": [
      "c:\\develop\\github\\ai-playground\\src\\python\\langchainVarious\\langchain\\lib\\site-packages\\tqdm\\auto.py:21: TqdmWarning: IProgress not found. Please update jupyter and ipywidgets. See https://ipywidgets.readthedocs.io/en/stable/user_install.html\n",
      "  from .autonotebook import tqdm as notebook_tqdm\n"
     ]
    }
   ],
   "source": [
    "import torch\n",
    "from transformers import AutoModelForSpeechSeq2Seq, AutoProcessor, pipeline\n",
    "\n",
    "device = \"cuda:0\" if torch.cuda.is_available() else \"cpu\"\n",
    "torch_dtype = torch.float16 if torch.cuda.is_available() else torch.float32\n",
    "\n",
    "# model_id = \"distil-whisper/distil-small.en\"\n",
    "model_id = \"distil-whisper/distil-large-v2\"\n",
    "model = AutoModelForSpeechSeq2Seq.from_pretrained(\n",
    "    model_id, torch_dtype=torch_dtype, low_cpu_mem_usage=True, use_safetensors=True\n",
    ")\n",
    "model.to(device)\n",
    "\n",
    "processor = AutoProcessor.from_pretrained(model_id)"
   ]
  },
  {
   "cell_type": "code",
   "execution_count": 5,
   "metadata": {},
   "outputs": [
    {
     "name": "stdout",
     "output_type": "stream",
     "text": [
      "{'text': ' I wanted to try a prova digestration, for to the, effectively, when '\n",
      "         'I go converti with the model optimized openizzper, it is traded in '\n",
      "         'English.'}\n"
     ]
    }
   ],
   "source": [
    "pipe = pipeline(\n",
    "    \"automatic-speech-recognition\",\n",
    "    model=model,\n",
    "    tokenizer=processor.tokenizer,\n",
    "    feature_extractor=processor.feature_extractor,\n",
    "    max_new_tokens=128,\n",
    "    chunk_length_s=15,\n",
    "    batch_size=16,\n",
    "    torch_dtype=torch_dtype,\n",
    "    device=device,\n",
    ")\n",
    "\n",
    "result = pipe(file)\n",
    "pprint(result)"
   ]
  }
 ],
 "metadata": {
  "kernelspec": {
   "display_name": "langchain",
   "language": "python",
   "name": "python3"
  },
  "language_info": {
   "codemirror_mode": {
    "name": "ipython",
    "version": 3
   },
   "file_extension": ".py",
   "mimetype": "text/x-python",
   "name": "python",
   "nbconvert_exporter": "python",
   "pygments_lexer": "ipython3",
   "version": "3.10.11"
  }
 },
 "nbformat": 4,
 "nbformat_minor": 2
}
