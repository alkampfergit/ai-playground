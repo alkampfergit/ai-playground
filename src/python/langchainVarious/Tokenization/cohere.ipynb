{
 "cells": [
  {
   "cell_type": "code",
   "execution_count": 8,
   "metadata": {},
   "outputs": [],
   "source": [
    "# Start with cohere embedding\n",
    "from tokenizers import Tokenizer  \n",
    "import requests\n",
    "\n",
    "# download the tokenizer\n",
    "\n",
    "tokenizer_url = \"https://storage.googleapis.com/cohere-public/tokenizers/command-r-plus.json\"\n",
    "\n",
    "response = requests.get(tokenizer_url)  \n",
    "tokenizer = Tokenizer.from_str(response.text)"
   ]
  },
  {
   "cell_type": "code",
   "execution_count": 20,
   "metadata": {},
   "outputs": [],
   "source": [
    "\n",
    "from pprint import pprint\n",
    "string_to_tokenize = \"Now I'm using CommandR+ tokenizer, <|YES_TOKEN|> it's working\"\n"
   ]
  },
  {
   "cell_type": "code",
   "execution_count": 25,
   "metadata": {},
   "outputs": [
    {
     "name": "stdout",
     "output_type": "stream",
     "text": [
      "[13898,\n",
      " 1767,\n",
      " 6071,\n",
      " 3703,\n",
      " 14646,\n",
      " 57,\n",
      " 18,\n",
      " 158048,\n",
      " 19,\n",
      " 228,\n",
      " 255002,\n",
      " 1894,\n",
      " 1914,\n",
      " 5389]\n",
      "['Now',\n",
      " ' I',\n",
      " \"'m\",\n",
      " ' using',\n",
      " ' Command',\n",
      " 'R',\n",
      " '+',\n",
      " ' tokenizer',\n",
      " ',',\n",
      " ' ',\n",
      " '',\n",
      " ' it',\n",
      " \"'s\",\n",
      " ' working']\n"
     ]
    }
   ],
   "source": [
    "\n",
    "result = tokenizer.encode(sequence = string_to_tokenize, add_special_tokens=False)\n",
    "pprint(result.ids)\n",
    "\n",
    "# Create an array with decoded tokens\n",
    "decoded_tokens = [tokenizer.decode([token]) for token in result.ids]\n",
    "\n",
    "pprint(decoded_tokens)\n"
   ]
  },
  {
   "cell_type": "code",
   "execution_count": 26,
   "metadata": {},
   "outputs": [
    {
     "name": "stdout",
     "output_type": "stream",
     "text": [
      "Token: 13898 - Decoded token: Now\n",
      "Token: 1767 - Decoded token:  I\n",
      "Token: 6071 - Decoded token: 'm\n",
      "Token: 3703 - Decoded token:  using\n",
      "Token: 14646 - Decoded token:  Command\n",
      "Token: 57 - Decoded token: R\n",
      "Token: 18 - Decoded token: +\n",
      "Token: 158048 - Decoded token:  tokenizer\n",
      "Token: 19 - Decoded token: ,\n",
      "Token: 228 - Decoded token:  \n",
      "Token: 255002 - Decoded token: \n",
      "Token: 1894 - Decoded token:  it\n",
      "Token: 1914 - Decoded token: 's\n",
      "Token: 5389 - Decoded token:  working\n"
     ]
    }
   ],
   "source": [
    "# now print for each token the relative decoded value\n",
    "for token, decoded_token in zip(result.ids, decoded_tokens):\n",
    "    print(f\"Token: {token} - Decoded token: {decoded_token}\")"
   ]
  },
  {
   "cell_type": "code",
   "execution_count": 22,
   "metadata": {},
   "outputs": [],
   "source": [
    "# Now use the tokenizer api to get the very same result\n",
    "import cohere\n",
    "import os\n",
    "from dotenv import load_dotenv, find_dotenv\n",
    "\n",
    "_ = load_dotenv(find_dotenv()) # read local .env file\n",
    "cohere_api_key = os.getenv(\"COHERE_API_KEY\")\n"
   ]
  },
  {
   "cell_type": "code",
   "execution_count": 23,
   "metadata": {},
   "outputs": [
    {
     "name": "stdout",
     "output_type": "stream",
     "text": [
      "tokens=[13898, 1767, 6071, 3703, 14646, 57, 18, 158048, 19, 228, 255002, 1894, 1914, 5389] token_strings=[] meta=None\n"
     ]
    }
   ],
   "source": [
    "\n",
    "co = cohere.Client(cohere_api_key)\n",
    "\n",
    "response = co.tokenize(text=string_to_tokenize, model=\"command-r-plus\")  # optional\n",
    "print(response)"
   ]
  }
 ],
 "metadata": {
  "kernelspec": {
   "display_name": "langchain_experiments",
   "language": "python",
   "name": "langchain_experiments"
  },
  "language_info": {
   "codemirror_mode": {
    "name": "ipython",
    "version": 3
   },
   "file_extension": ".py",
   "mimetype": "text/x-python",
   "name": "python",
   "nbconvert_exporter": "python",
   "pygments_lexer": "ipython3",
   "version": "3.11.9"
  }
 },
 "nbformat": 4,
 "nbformat_minor": 2
}
