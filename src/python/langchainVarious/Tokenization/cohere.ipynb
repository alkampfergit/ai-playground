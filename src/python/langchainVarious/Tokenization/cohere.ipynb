{
 "cells": [
  {
   "cell_type": "code",
   "execution_count": 1,
   "metadata": {},
   "outputs": [
    {
     "data": {
      "text/plain": [
       "Encoding(num_tokens=8, attributes=[ids, type_ids, tokens, offsets, attention_mask, special_tokens_mask, overflowing])"
      ]
     },
     "execution_count": 1,
     "metadata": {},
     "output_type": "execute_result"
    }
   ],
   "source": [
    "# Start with cohere embedding\n",
    "from tokenizers import Tokenizer  \n",
    "import requests\n",
    "\n",
    "# download the tokenizer\n",
    "\n",
    "tokenizer_url = \"https://storage.googleapis.com/cohere-public/tokenizers/command-r-plus.json\"\n",
    "\n",
    "response = requests.get(tokenizer_url)  \n",
    "tokenizer = Tokenizer.from_str(response.text)\n"
   ]
  },
  {
   "cell_type": "code",
   "execution_count": 12,
   "metadata": {},
   "outputs": [],
   "source": [
    "\n",
    "from pprint import pprint\n",
    "string_to_tokenize = \"Now I'm using CommandR+ tokenizer\"\n"
   ]
  },
  {
   "cell_type": "code",
   "execution_count": 13,
   "metadata": {},
   "outputs": [
    {
     "name": "stdout",
     "output_type": "stream",
     "text": [
      "[13898, 1767, 6071, 3703, 14646, 57, 18, 158048]\n",
      "['Now', ' I', \"'m\", ' using', ' Command', 'R', '+', ' tokenizer']\n"
     ]
    }
   ],
   "source": [
    "\n",
    "result = tokenizer.encode(sequence = string_to_tokenize, add_special_tokens=False)\n",
    "pprint(result.ids)\n",
    "\n",
    "# Create an array with decoded tokens\n",
    "decoded_tokens = [tokenizer.decode([token]) for token in result.ids]\n",
    "\n",
    "pprint(decoded_tokens)\n"
   ]
  },
  {
   "cell_type": "code",
   "execution_count": 14,
   "metadata": {},
   "outputs": [],
   "source": [
    "# Now use the tokenizer api to get the very same result\n",
    "import cohere\n",
    "import os\n",
    "from dotenv import load_dotenv, find_dotenv\n",
    "\n",
    "_ = load_dotenv(find_dotenv()) # read local .env file\n",
    "cohere_api_key = os.getenv(\"COHERE_API_KEY\")\n"
   ]
  },
  {
   "cell_type": "code",
   "execution_count": 16,
   "metadata": {},
   "outputs": [
    {
     "name": "stdout",
     "output_type": "stream",
     "text": [
      "tokens=[13898, 1767, 6071, 3703, 14646, 57, 18, 158048] token_strings=[] meta=None\n"
     ]
    }
   ],
   "source": [
    "\n",
    "co = cohere.Client(cohere_api_key)\n",
    "\n",
    "response = co.tokenize(text=string_to_tokenize, model=\"command-r-plus\")  # optional\n",
    "print(response)"
   ]
  }
 ],
 "metadata": {
  "kernelspec": {
   "display_name": "langchain",
   "language": "python",
   "name": "python3"
  },
  "language_info": {
   "codemirror_mode": {
    "name": "ipython",
    "version": 3
   },
   "file_extension": ".py",
   "mimetype": "text/x-python",
   "name": "python",
   "nbconvert_exporter": "python",
   "pygments_lexer": "ipython3",
   "version": "3.10.9"
  }
 },
 "nbformat": 4,
 "nbformat_minor": 2
}
