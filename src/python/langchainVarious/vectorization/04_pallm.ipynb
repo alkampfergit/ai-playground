{
 "cells": [
  {
   "cell_type": "code",
   "execution_count": 2,
   "metadata": {},
   "outputs": [
    {
     "name": "stdout",
     "output_type": "stream",
     "text": [
      "\n",
      "\n",
      "Failed to import tensorflow. Please note that tensorflow is not installed by default when you install tensorflow_hub. This is so that users can decide which tensorflow package to use. To use tensorflow_hub, please install a current version of tensorflow by following the instructions at https://tensorflow.org/install and https://tensorflow.org/hub/installation.\n",
      "\n",
      "\n"
     ]
    },
    {
     "ename": "ModuleNotFoundError",
     "evalue": "No module named 'tensorflow'",
     "output_type": "error",
     "traceback": [
      "\u001b[0;31m---------------------------------------------------------------------------\u001b[0m",
      "\u001b[0;31mModuleNotFoundError\u001b[0m                       Traceback (most recent call last)",
      "\u001b[1;32m/Users/gianmariaricci/develop/github/ai-playground/src/python/langchainVarious/vectorization/04_pallm.ipynb Cell 1\u001b[0m line \u001b[0;36m1\n\u001b[0;32m----> <a href='vscode-notebook-cell:/Users/gianmariaricci/develop/github/ai-playground/src/python/langchainVarious/vectorization/04_pallm.ipynb#W0sZmlsZQ%3D%3D?line=0'>1</a>\u001b[0m \u001b[39mimport\u001b[39;00m \u001b[39mtensorflow_hub\u001b[39;00m \u001b[39mas\u001b[39;00m \u001b[39mhub\u001b[39;00m\n\u001b[1;32m      <a href='vscode-notebook-cell:/Users/gianmariaricci/develop/github/ai-playground/src/python/langchainVarious/vectorization/04_pallm.ipynb#W0sZmlsZQ%3D%3D?line=2'>3</a>\u001b[0m \u001b[39m# Load the embedding module\u001b[39;00m\n\u001b[1;32m      <a href='vscode-notebook-cell:/Users/gianmariaricci/develop/github/ai-playground/src/python/langchainVarious/vectorization/04_pallm.ipynb#W0sZmlsZQ%3D%3D?line=3'>4</a>\u001b[0m embed \u001b[39m=\u001b[39m hub\u001b[39m.\u001b[39mload(\u001b[39m\"\u001b[39m\u001b[39mhttps://tfhub.dev/google/universal-sentence-encoder-large/5\u001b[39m\u001b[39m\"\u001b[39m)\n",
      "File \u001b[0;32m~/develop/github/ai-playground/src/python/langchainVarious/langchain/lib/python3.11/site-packages/tensorflow_hub/__init__.py:85\u001b[0m\n\u001b[1;32m     74\u001b[0m   \u001b[39mif\u001b[39;00m (parse_version(tf\u001b[39m.\u001b[39m__version__) \u001b[39m<\u001b[39m\n\u001b[1;32m     75\u001b[0m       parse_version(required_tensorflow_version)):\n\u001b[1;32m     76\u001b[0m     \u001b[39mraise\u001b[39;00m \u001b[39mImportError\u001b[39;00m(\n\u001b[1;32m     77\u001b[0m         \u001b[39m\"\u001b[39m\u001b[39m\\n\u001b[39;00m\u001b[39m\\n\u001b[39;00m\u001b[39mThis version of tensorflow_hub requires tensorflow \u001b[39m\u001b[39m\"\u001b[39m\n\u001b[1;32m     78\u001b[0m         \u001b[39m\"\u001b[39m\u001b[39mversion >= \u001b[39m\u001b[39m{required}\u001b[39;00m\u001b[39m; Detected an installation of version \u001b[39m\u001b[39m{present}\u001b[39;00m\u001b[39m. \u001b[39m\u001b[39m\"\u001b[39m\n\u001b[0;32m   (...)\u001b[0m\n\u001b[1;32m     82\u001b[0m             required\u001b[39m=\u001b[39mrequired_tensorflow_version,\n\u001b[1;32m     83\u001b[0m             present\u001b[39m=\u001b[39mtf\u001b[39m.\u001b[39m__version__))\n\u001b[0;32m---> 85\u001b[0m _ensure_tf_install()\n\u001b[1;32m     88\u001b[0m \u001b[39m# pylint: disable=g-import-not-at-top\u001b[39;00m\n\u001b[1;32m     89\u001b[0m \u001b[39m# pylint: disable=g-bad-import-order\u001b[39;00m\n\u001b[1;32m     90\u001b[0m \u001b[39mfrom\u001b[39;00m \u001b[39mtensorflow_hub\u001b[39;00m\u001b[39m.\u001b[39;00m\u001b[39mestimator\u001b[39;00m \u001b[39mimport\u001b[39;00m LatestModuleExporter\n",
      "File \u001b[0;32m~/develop/github/ai-playground/src/python/langchainVarious/langchain/lib/python3.11/site-packages/tensorflow_hub/__init__.py:49\u001b[0m, in \u001b[0;36m_ensure_tf_install\u001b[0;34m()\u001b[0m\n\u001b[1;32m     42\u001b[0m \u001b[39m\u001b[39m\u001b[39m\"\"\"Attempt to import tensorflow, and ensure its version is sufficient.\u001b[39;00m\n\u001b[1;32m     43\u001b[0m \n\u001b[1;32m     44\u001b[0m \u001b[39mRaises:\u001b[39;00m\n\u001b[1;32m     45\u001b[0m \u001b[39m  ImportError: if either tensorflow is not importable or its version is\u001b[39;00m\n\u001b[1;32m     46\u001b[0m \u001b[39m  inadequate.\u001b[39;00m\n\u001b[1;32m     47\u001b[0m \u001b[39m\"\"\"\u001b[39;00m\n\u001b[1;32m     48\u001b[0m \u001b[39mtry\u001b[39;00m:\n\u001b[0;32m---> 49\u001b[0m   \u001b[39mimport\u001b[39;00m \u001b[39mtensorflow\u001b[39;00m \u001b[39mas\u001b[39;00m \u001b[39mtf\u001b[39;00m\n\u001b[1;32m     50\u001b[0m \u001b[39mexcept\u001b[39;00m \u001b[39mImportError\u001b[39;00m:\n\u001b[1;32m     51\u001b[0m   \u001b[39m# Print more informative error message, then reraise.\u001b[39;00m\n\u001b[1;32m     52\u001b[0m   \u001b[39mprint\u001b[39m(\n\u001b[1;32m     53\u001b[0m       \u001b[39m\"\u001b[39m\u001b[39m\\n\u001b[39;00m\u001b[39m\\n\u001b[39;00m\u001b[39mFailed to import tensorflow. Please note that tensorflow is not \u001b[39m\u001b[39m\"\u001b[39m\n\u001b[1;32m     54\u001b[0m       \u001b[39m\"\u001b[39m\u001b[39minstalled by default when you install tensorflow_hub. This is so that \u001b[39m\u001b[39m\"\u001b[39m\n\u001b[0;32m   (...)\u001b[0m\n\u001b[1;32m     57\u001b[0m       \u001b[39m\"\u001b[39m\u001b[39mby following the instructions at https://tensorflow.org/install and \u001b[39m\u001b[39m\"\u001b[39m\n\u001b[1;32m     58\u001b[0m       \u001b[39m\"\u001b[39m\u001b[39mhttps://tensorflow.org/hub/installation.\u001b[39m\u001b[39m\\n\u001b[39;00m\u001b[39m\\n\u001b[39;00m\u001b[39m\"\u001b[39m)\n",
      "\u001b[0;31mModuleNotFoundError\u001b[0m: No module named 'tensorflow'"
     ]
    }
   ],
   "source": [
    "#https://developers.generativeai.google/tutorials/embeddings_quickstart\n",
    "\n"
   ]
  }
 ],
 "metadata": {
  "kernelspec": {
   "display_name": "langchain_experiments",
   "language": "python",
   "name": "langchain_experiments"
  },
  "language_info": {
   "codemirror_mode": {
    "name": "ipython",
    "version": 3
   },
   "file_extension": ".py",
   "mimetype": "text/x-python",
   "name": "python",
   "nbconvert_exporter": "python",
   "pygments_lexer": "ipython3",
   "version": "3.11.5"
  }
 },
 "nbformat": 4,
 "nbformat_minor": 2
}
