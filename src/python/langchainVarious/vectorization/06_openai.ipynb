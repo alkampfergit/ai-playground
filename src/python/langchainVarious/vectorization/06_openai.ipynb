{
 "cells": [
  {
   "cell_type": "code",
   "execution_count": 3,
   "metadata": {},
   "outputs": [
    {
     "name": "stdout",
     "output_type": "stream",
     "text": [
      "https://alkopenai2.openai.azure.com/\n"
     ]
    }
   ],
   "source": [
    "import os\n",
    "\n",
    "from dotenv import load_dotenv, find_dotenv\n",
    "_ = load_dotenv(find_dotenv()) # read local .env file\n",
    "\n",
    "print(os.getenv('OPENAI_API_BASE'))\n"
   ]
  },
  {
   "cell_type": "code",
   "execution_count": 4,
   "metadata": {},
   "outputs": [
    {
     "name": "stdout",
     "output_type": "stream",
     "text": [
      "text-embedding-ada-002 embedding length is 1536\n",
      "text-embedding-3-small embedding length is 1536\n",
      "text-embedding-3-large embedding length is 3072\n",
      "text-embedding-3-small 512 embedding length is 512\n"
     ]
    }
   ],
   "source": [
    "from openai import OpenAI\n",
    "client = OpenAI()\n",
    "client.api_key = os.getenv('OPENAI_API_KEY_NOT_AZURE')\n",
    "# Input text for which you want to generate embeddings\n",
    "input_text = \"The quick brown fox jumps over the lazy dog.\"\n",
    "\n",
    "response = client.embeddings.create(\n",
    "    input=input_text,\n",
    "    model=\"text-embedding-ada-002\"\n",
    ")\n",
    "print(f\"text-embedding-ada-002 embedding length is {len(response.data[0].embedding)}\")\n",
    "\n",
    "# Now go for the new text embedding model\n",
    "response_te3_small = client.embeddings.create(\n",
    "    input=input_text,\n",
    "    model=\"text-embedding-3-small\"\n",
    ")\n",
    "print(f\"text-embedding-3-small embedding length is {len(response_te3_small.data[0].embedding)}\")\n",
    "\n",
    "response_te3_large = client.embeddings.create(\n",
    "    input=input_text,\n",
    "    model=\"text-embedding-3-large\"\n",
    ")\n",
    "print(f\"text-embedding-3-large embedding length is {len(response_te3_large.data[0].embedding)}\")\n",
    "\n",
    "# Can reduce the dimensions\n",
    "response_te3_small_512 = client.embeddings.create(\n",
    "    input=input_text,\n",
    "    dimensions=512,\n",
    "    model=\"text-embedding-3-small\"\n",
    ")\n",
    "print(f\"text-embedding-3-small 512 embedding length is {len(response_te3_small_512.data[0].embedding)}\")\n",
    "\n"
   ]
  }
 ],
 "metadata": {
  "kernelspec": {
   "display_name": "langchain_experiments",
   "language": "python",
   "name": "langchain_experiments"
  },
  "language_info": {
   "codemirror_mode": {
    "name": "ipython",
    "version": 3
   },
   "file_extension": ".py",
   "mimetype": "text/x-python",
   "name": "python",
   "nbconvert_exporter": "python",
   "pygments_lexer": "ipython3",
   "version": "3.11.7"
  }
 },
 "nbformat": 4,
 "nbformat_minor": 2
}
