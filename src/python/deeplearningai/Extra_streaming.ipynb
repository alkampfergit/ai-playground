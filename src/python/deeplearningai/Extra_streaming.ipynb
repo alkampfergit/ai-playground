{
 "cells": [
  {
   "cell_type": "code",
   "execution_count": 2,
   "metadata": {},
   "outputs": [],
   "source": [
    "import openai\n",
    "import os\n",
    "from langchain.chat_models import AzureChatOpenAI\n",
    "from dotenv import load_dotenv, find_dotenv\n",
    "\n",
    "_ = load_dotenv(find_dotenv()) # read local .env file\n",
    "\n",
    "openai.api_type = \"azure\"\n",
    "openai.api_version = \"2023-03-15-preview\"\n",
    "\n",
    "# Remember that you need to set the OPENAI_API_BASE to point openai to your specific deployment.\n",
    "\n",
    "openai.api_base = os.getenv('OPENAI_API_BASE')\n",
    "openai.api_key = os.getenv(\"OPENAI_API_KEY\")"
   ]
  },
  {
   "cell_type": "markdown",
   "metadata": {},
   "source": [
    "Now try to perform a streaming api question to chatgpt.\n",
    "First of all one simple question without streaming."
   ]
  },
  {
   "cell_type": "code",
   "execution_count": 3,
   "metadata": {},
   "outputs": [
    {
     "name": "stdout",
     "output_type": "stream",
     "text": [
      "<OpenAIObject chat.completion id=chatcmpl-7TsynmKwwgnx1pAQqdBvu5D3bLDAi at 0x7fe925c72840> JSON: {\n",
      "  \"id\": \"chatcmpl-7TsynmKwwgnx1pAQqdBvu5D3bLDAi\",\n",
      "  \"object\": \"chat.completion\",\n",
      "  \"created\": 1687357209,\n",
      "  \"model\": \"gpt-35-turbo\",\n",
      "  \"choices\": [\n",
      "    {\n",
      "      \"index\": 0,\n",
      "      \"finish_reason\": \"stop\",\n",
      "      \"message\": {\n",
      "        \"role\": \"assistant\",\n",
      "        \"content\": \"Sure, here are the top 10 OWASP vulnerabilities for web applications along with a brief explanation for each one:\\n\\n1. Injection: Injection flaws occur when an attacker can send untrusted data to an interpreter that can execute unintended commands or access unauthorized data. This can result in data loss, corruption, or unauthorized access to sensitive information.\\n\\n2. Broken Authentication and Session Management: This vulnerability occurs when an application does not properly authenticate users or manage their sessions. Attackers can exploit this vulnerability to gain unauthorized access to user accounts or sensitive data.\\n\\n3. Cross-Site Scripting (XSS): XSS vulnerabilities occur when an attacker can inject malicious code into a web page that is then executed by a victim's browser. This can result in the theft of sensitive data or the compromise of user accounts.\\n\\n4. Broken Access Control: This vulnerability occurs when an application does not properly restrict access to sensitive resources. Attackers can exploit this vulnerability to gain unauthorized access to sensitive data or functionality.\\n\\n5. Security Misconfiguration: This vulnerability occurs when an application is not configured securely. Attackers can exploit this vulnerability to gain unauthorized access to sensitive data or functionality.\\n\\n6. Insecure Cryptographic Storage: This vulnerability occurs when an application stores sensitive data in an insecure manner. Attackers can exploit this vulnerability to gain unauthorized access to sensitive data.\\n\\n7. Insufficient Logging and Monitoring: This vulnerability occurs when an application does not log or monitor security events. Attackers can exploit this vulnerability to gain unauthorized access to sensitive data or functionality.\\n\\n8. Insecure Communication: This vulnerability occurs when an application communicates over an insecure channel. Attackers can exploit this vulnerability to intercept sensitive data or modify data in transit.\\n\\n9. Broken Function Level Authorization: This vulnerability occurs when an application does not properly restrict access to functionality based on user roles or privileges. Attackers can exploit this vulnerability to gain unauthorized access to sensitive data or functionality.\\n\\n10. Using Components with Known Vulnerabilities: This vulnerability occurs when an application uses third-party components with known vulnerabilities. Attackers can exploit this vulnerability to gain unauthorized access to sensitive data or functionality.\"\n",
      "      }\n",
      "    }\n",
      "  ],\n",
      "  \"usage\": {\n",
      "    \"completion_tokens\": 419,\n",
      "    \"prompt_tokens\": 43,\n",
      "    \"total_tokens\": 462\n",
      "  }\n",
      "}\n",
      "('Sure, here are the top 10 OWASP vulnerabilities for web applications along '\n",
      " 'with a brief explanation for each one:\\n'\n",
      " '\\n'\n",
      " '1. Injection: Injection flaws occur when an attacker can send untrusted data '\n",
      " 'to an interpreter that can execute unintended commands or access '\n",
      " 'unauthorized data. This can result in data loss, corruption, or unauthorized '\n",
      " 'access to sensitive information.\\n'\n",
      " '\\n'\n",
      " '2. Broken Authentication and Session Management: This vulnerability occurs '\n",
      " 'when an application does not properly authenticate users or manage their '\n",
      " 'sessions. Attackers can exploit this vulnerability to gain unauthorized '\n",
      " 'access to user accounts or sensitive data.\\n'\n",
      " '\\n'\n",
      " '3. Cross-Site Scripting (XSS): XSS vulnerabilities occur when an attacker '\n",
      " 'can inject malicious code into a web page that is then executed by a '\n",
      " \"victim's browser. This can result in the theft of sensitive data or the \"\n",
      " 'compromise of user accounts.\\n'\n",
      " '\\n'\n",
      " '4. Broken Access Control: This vulnerability occurs when an application does '\n",
      " 'not properly restrict access to sensitive resources. Attackers can exploit '\n",
      " 'this vulnerability to gain unauthorized access to sensitive data or '\n",
      " 'functionality.\\n'\n",
      " '\\n'\n",
      " '5. Security Misconfiguration: This vulnerability occurs when an application '\n",
      " 'is not configured securely. Attackers can exploit this vulnerability to gain '\n",
      " 'unauthorized access to sensitive data or functionality.\\n'\n",
      " '\\n'\n",
      " '6. Insecure Cryptographic Storage: This vulnerability occurs when an '\n",
      " 'application stores sensitive data in an insecure manner. Attackers can '\n",
      " 'exploit this vulnerability to gain unauthorized access to sensitive data.\\n'\n",
      " '\\n'\n",
      " '7. Insufficient Logging and Monitoring: This vulnerability occurs when an '\n",
      " 'application does not log or monitor security events. Attackers can exploit '\n",
      " 'this vulnerability to gain unauthorized access to sensitive data or '\n",
      " 'functionality.\\n'\n",
      " '\\n'\n",
      " '8. Insecure Communication: This vulnerability occurs when an application '\n",
      " 'communicates over an insecure channel. Attackers can exploit this '\n",
      " 'vulnerability to intercept sensitive data or modify data in transit.\\n'\n",
      " '\\n'\n",
      " '9. Broken Function Level Authorization: This vulnerability occurs when an '\n",
      " 'application does not properly restrict access to functionality based on user '\n",
      " 'roles or privileges. Attackers can exploit this vulnerability to gain '\n",
      " 'unauthorized access to sensitive data or functionality.\\n'\n",
      " '\\n'\n",
      " '10. Using Components with Known Vulnerabilities: This vulnerability occurs '\n",
      " 'when an application uses third-party components with known vulnerabilities. '\n",
      " 'Attackers can exploit this vulnerability to gain unauthorized access to '\n",
      " 'sensitive data or functionality.')\n"
     ]
    }
   ],
   "source": [
    "from pprint import pprint\n",
    "response = openai.ChatCompletion.create(\n",
    "  engine=\"Gpt35\",\n",
    "  messages = [{\"role\":\"system\",\n",
    "               \"content\":\"You are an AI assistant that helps people find information.\"},\n",
    "               {\"role\":\"user\",\"content\":\"Tells me top 10 owasp vulnerabilities for web app with a small explanation for each one\"}\n",
    "  ],\n",
    "  max_tokens=1600,\n",
    "  temperature=0.3,\n",
    "  top_p=0.95,\n",
    "  frequency_penalty=0,\n",
    "  presence_penalty=0,\n",
    "  stop=None)\n",
    "\n",
    "pprint(response)\n",
    "pprint(response[\"choices\"][0][\"message\"][\"content\"])"
   ]
  },
  {
   "cell_type": "markdown",
   "metadata": {},
   "source": [
    "You can notice that the answer comes all at a time, the server will perform the response then it answer with a complete result.\n",
    "\n",
    "To perform a **streaming request** you need to change the code a little, with this method you can print a little bit of a response at a time."
   ]
  },
  {
   "cell_type": "code",
   "execution_count": 10,
   "metadata": {},
   "outputs": [
    {
     "name": "stdout",
     "output_type": "stream",
     "text": [
      "Sure, here are the top 10 OWASP vulnerabilities for web applications along with a brief explanation for each one:\n",
      "\n",
      "1. Injection: Injection flaws occur when untrusted data is sent to an interpreter as part of a command or query. This can result in the execution of unintended commands or access to unauthorized data.\n",
      "\n",
      "2. Broken Authentication and Session Management: This vulnerability occurs when an application fails to properly authenticate users or manage their sessions, allowing attackers to gain unauthorized access to sensitive data.\n",
      "\n",
      "3. Cross-Site Scripting (XSS): XSS vulnerabilities allow attackers to inject malicious scripts into web pages viewed by other users. This can result in the theft of sensitive data or the execution of unauthorized actions on behalf of the victim.\n",
      "\n",
      "4. Broken Access Control: This vulnerability occurs when an application fails to properly enforce access controls, allowing attackers to access sensitive data or functionality that should be restricted.\n",
      "\n",
      "5. Security Misconfiguration: Security misconfiguration occurs when an application is not properly configured, leaving it vulnerable to attack. This can include things like default passwords, open ports, and unnecessary services.\n",
      "\n",
      "6. Insecure Cryptographic Storage: This vulnerability occurs when an application stores sensitive data in an insecure manner, such as using weak encryption or storing passwords in plain text.\n",
      "\n",
      "7. Insufficient Logging and Monitoring: This vulnerability occurs when an application fails to properly log and monitor events, making it difficult to detect and respond to security incidents.\n",
      "\n",
      "8. Insecure Communications: This vulnerability occurs when an application communicates over insecure channels, such as using unencrypted HTTP instead of HTTPS.\n",
      "\n",
      "9. Broken Function Level Authorization: This vulnerability occurs when an application fails to properly restrict access to specific functions or features, allowing attackers to perform unauthorized actions.\n",
      "\n",
      "10. Using Components with Known Vulnerabilities: This vulnerability occurs when an application uses third-party components with known security vulnerabilities, making it vulnerable to attack."
     ]
    }
   ],
   "source": [
    "import pprint\n",
    "# create a for to enumerate the chunks returned by the chat api\n",
    "# pp = pprint.PrettyPrinter(width=80)\n",
    "\n",
    "for chunk in openai.ChatCompletion.create(\n",
    "  engine=\"Gpt35\",\n",
    "  messages = [{\"role\":\"system\",\n",
    "               \"content\":\"You are an AI assistant that helps people find information.\"},\n",
    "               {\"role\":\"user\",\"content\":\"Tells me top 10 owasp vulnerabilities for web app with a small explanation for each one\"}\n",
    "  ],\n",
    "  max_tokens=1600,\n",
    "  temperature=0.3,\n",
    "  top_p=0.95,\n",
    "  frequency_penalty=0,\n",
    "  presence_penalty=0,\n",
    "  stop=None,\n",
    "  stream=True):\n",
    "    # this is the inside of the for cycle, lets print the chunk\n",
    "    # if you print the whole chunk it will print gobs of text\n",
    "    # pprint(chunk)\n",
    "    delta = chunk[\"choices\"][0].get(\"delta\", {}).get(\"content\")\n",
    "    if delta is not None:\n",
    "        print(delta, end=\"\")\n"
   ]
  },
  {
   "cell_type": "markdown",
   "metadata": {},
   "source": [
    "Now you can also using async python"
   ]
  },
  {
   "cell_type": "code",
   "execution_count": 11,
   "metadata": {},
   "outputs": [
    {
     "name": "stdout",
     "output_type": "stream",
     "text": [
      "Sure, here are the top 10 OWASP vulnerabilities for web applications:\n",
      "\n",
      "1. Injection: Injection flaws, such as SQL, NoSQL, OS, and LDAP injection, occur when untrusted data is sent to an interpreter as part of a command or query. The attacker's hostile data can trick the interpreter into executing unintended commands or accessing data without proper authorization.\n",
      "\n",
      "2. Broken Authentication and Session Management: Applications frequently fail to protect sensitive information, such as authentication credentials and session tokens, due to improper authentication and session management.\n",
      "\n",
      "3. Cross-Site Scripting (XSS): XSS flaws occur whenever an application includes untrusted data in a new web page without proper validation or escaping, allowing attackers to execute scripts in the victim's browser that can hijack user sessions, deface web sites, or redirect the user to malicious sites.\n",
      "\n",
      "4. Broken Access Control: Restrictions on what authenticated users are allowed to do are not properly enforced. Attackers can exploit these flaws to access unauthorized functionality and/or data, such as access other users' accounts, view sensitive files, modify other users' data, change access rights, etc.\n",
      "\n",
      "5. Security Misconfiguration: Security misconfiguration is the most commonly seen issue. This is commonly a result of insecure default configurations, incomplete or ad hoc configurations, open cloud storage, misconfigured HTTP headers, and verbose error messages containing sensitive information.\n",
      "\n",
      "6. Insecure Cryptographic Storage: Many web applications do not properly protect sensitive data, such as credit cards, passwords, and session tokens, with appropriate encryption or hashing.\n",
      "\n",
      "7. Insufficient Transport Layer Protection: Applications frequently fail to authenticate, encrypt, and protect the confidentiality and integrity of sensitive network traffic. This includes unprotected communications, poor or absent encryption, and weak configuration of SSL/TLS.\n",
      "\n",
      "8. Insufficient Authorization: Authorization flaws occur when an application does not properly restrict access to resources or functionality based on user roles or privileges.\n",
      "\n",
      "9. Using Components with Known Vulnerabilities: Components, such as libraries, frameworks, and other software modules, almost always run with full privileges. If a vulnerable component is exploited, such an attack can facilitate serious data loss or server takeover.\n",
      "\n",
      "10. Insufficient Logging and Monitoring: Insufficient logging and monitoring, coupled with missing or ineffective integration with incident response, allows attackers to further attack systems, maintain persistence, pivot to more systems, and tamper, extract, or destroy data.\n",
      "\n",
      "I hope this helps!"
     ]
    }
   ],
   "source": [
    "import pprint\n",
    "# create a for to enumerate the chunks returned by the chat api\n",
    "# pp = pprint.PrettyPrinter(width=80)\n",
    "# !pip install asyncio\n",
    "\n",
    "async for chunk in await openai.ChatCompletion.acreate(\n",
    "  engine=\"Gpt35\",\n",
    "  messages = [{\"role\":\"system\",\n",
    "               \"content\":\"You are an AI assistant that helps people find information.\"},\n",
    "               {\"role\":\"user\",\"content\":\"Tells me top 10 owasp vulnerabilities for web app with a small explanation for each one\"}\n",
    "  ],\n",
    "  max_tokens=1600,\n",
    "  temperature=0.3,\n",
    "  top_p=0.95,\n",
    "  frequency_penalty=0,\n",
    "  presence_penalty=0,\n",
    "  stop=None,\n",
    "  stream=True):\n",
    "    # this is the inside of the for cycle, lets print the chunk\n",
    "    # if you print the whole chunk it will print gobs of text\n",
    "    # pprint(chunk)\n",
    "    delta = chunk[\"choices\"][0].get(\"delta\", {}).get(\"content\")\n",
    "    if delta is not None:\n",
    "        print(delta, end=\"\")\n"
   ]
  }
 ],
 "metadata": {
  "kernelspec": {
   "display_name": "myenv",
   "language": "python",
   "name": "python3"
  },
  "language_info": {
   "codemirror_mode": {
    "name": "ipython",
    "version": 3
   },
   "file_extension": ".py",
   "mimetype": "text/x-python",
   "name": "python",
   "nbconvert_exporter": "python",
   "pygments_lexer": "ipython3",
   "version": "3.10.8"
  },
  "orig_nbformat": 4
 },
 "nbformat": 4,
 "nbformat_minor": 2
}
