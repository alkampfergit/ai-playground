{
 "cells": [
  {
   "cell_type": "code",
   "execution_count": 20,
   "metadata": {},
   "outputs": [
    {
     "name": "stderr",
     "output_type": "stream",
     "text": [
      "Found cached dataset wikipedia (/home/codespace/.cache/huggingface/datasets/wikipedia/20220301.simple/2.0.0/aa542ed919df55cc5d3347f42dd4521d05ca68751f50dbc32bae2a7f1e167559)\n"
     ]
    },
    {
     "data": {
      "text/plain": [
       "Dataset({\n",
       "    features: ['id', 'url', 'title', 'text'],\n",
       "    num_rows: 10000\n",
       "})"
      ]
     },
     "execution_count": 20,
     "metadata": {},
     "output_type": "execute_result"
    }
   ],
   "source": [
    "from datasets import load_dataset\n",
    "\n",
    "data = load_dataset(\"wikipedia\", \"20220301.simple\", split='train[:10000]')\n",
    "data"
   ]
  },
  {
   "cell_type": "code",
   "execution_count": 21,
   "metadata": {},
   "outputs": [],
   "source": [
    "# import pandas as pd\n",
    "# from datasets import load_dataset\n",
    "\n",
    "# # Load the dataset\n",
    "# data = load_dataset(\"wikipedia\", \"20220301.simple\", split='train[:10000]')\n",
    "\n",
    "# # Convert the dataset to a Pandas DataFrame\n",
    "# df = pd.DataFrame(data)\n",
    "\n",
    "# df = df.drop(columns = [\"text\"])\n",
    "# # Dump the first 10 records\n",
    "# print(df.heåad(10))"
   ]
  },
  {
   "cell_type": "code",
   "execution_count": 22,
   "metadata": {},
   "outputs": [
    {
     "data": {
      "text/plain": [
       "{'id': '13',\n",
       " 'url': 'https://simple.wikipedia.org/wiki/Alan%20Turing',\n",
       " 'title': 'Alan Turing',\n",
       " 'text': 'Alan Mathison Turing OBE FRS (London, 23 June 1912 – Wilmslow, Cheshire, 7 June 1954) was an English mathematician and computer scientist. He was born in Maida Vale, London.\\n\\nEarly life and family \\nAlan Turing was born in Maida Vale, London on 23 June 1912. His father was part of a family of merchants from Scotland. His mother, Ethel Sara, was the daughter of an engineer.\\n\\nEducation \\nTuring went to St. Michael\\'s, a school at 20 Charles Road, St Leonards-on-sea, when he was five years old.\\n\"This is only a foretaste of what is to come, and only the shadow of what is going to be.” – Alan Turing.\\n\\nThe Stoney family were once prominent landlords, here in North Tipperary. His mother Ethel Sara Stoney (1881–1976) was daughter of Edward Waller Stoney (Borrisokane, North Tipperary) and Sarah Crawford (Cartron Abbey, Co. Longford); Protestant Anglo-Irish gentry.\\n\\nEducated in Dublin at Alexandra School and College; on October 1st 1907 she married Julius Mathison Turing, latter son of Reverend John Robert Turing and Fanny Boyd, in Dublin. Born on June 23rd 1912, Alan Turing would go on to be regarded as one of the greatest figures of the twentieth century.\\n\\nA brilliant mathematician and cryptographer Alan was to become the founder of modern-day computer science and artificial intelligence; designing a machine at Bletchley Park to break secret Enigma encrypted messages used by the Nazi German war machine to protect sensitive commercial, diplomatic and military communications during World War 2. Thus, Turing made the single biggest contribution to the Allied victory in the war against Nazi Germany, possibly saving the lives of an estimated 2 million people, through his effort in shortening World War II.\\n\\nIn 2013, almost 60 years later, Turing received a posthumous Royal Pardon from Queen Elizabeth II. Today, the “Turing law” grants an automatic pardon to men who died before the law came into force, making it possible for living convicted gay men to seek pardons for offences now no longer on the statute book.\\n\\nAlas, Turing accidentally or otherwise lost his life in 1954, having been subjected by a British court to chemical castration, thus avoiding a custodial sentence. He is known to have ended his life at the age of 41 years, by eating an apple laced with cyanide.\\n\\nCareer \\nTuring was one of the people who worked on the first computers. He created the theoretical  Turing machine in 1936. The machine was imaginary, but it included the idea of a computer program.\\n\\nTuring was interested in artificial intelligence. He proposed the Turing test, to say when a machine could be called \"intelligent\". A computer could be said to \"think\" if a human talking with it could not tell it was a machine.\\n\\nDuring World War II, Turing worked with others to break German ciphers (secret messages). He  worked for the Government Code and Cypher School (GC&CS) at Bletchley Park, Britain\\'s codebreaking centre that produced Ultra intelligence.\\nUsing cryptanalysis, he helped to break the codes of the Enigma machine. After that, he worked on other German codes.\\n\\nFrom 1945 to 1947, Turing worked on the design of the ACE (Automatic Computing Engine) at the National Physical Laboratory. He presented a paper on 19 February 1946. That paper was \"the first detailed design of a stored-program computer\". Although it was possible to build ACE, there were delays in starting the project. In late 1947 he returned to Cambridge for a sabbatical year. While he was at Cambridge, the Pilot ACE was built without him. It ran its first program on 10\\xa0May 1950.\\n\\nPrivate life \\nTuring was a homosexual man. In 1952, he admitted having had sex with a man in England. At that time, homosexual acts were illegal. Turing was convicted. He had to choose between going to jail and taking hormones to lower his sex drive. He decided to take the hormones. After his punishment, he became impotent. He also grew breasts.\\n\\nIn May 2012, a private member\\'s bill was put before the House of Lords to grant Turing a statutory pardon. In July 2013, the government supported it. A royal pardon was granted on 24 December 2013.\\n\\nDeath \\nIn 1954, Turing died from cyanide poisoning. The cyanide came from either an apple which was poisoned with cyanide, or from water that had cyanide in it. The reason for the confusion is that the police never tested the apple for cyanide. It is also suspected that he committed suicide.\\n\\nThe treatment forced on him is now believed to be very wrong. It is against medical ethics and international laws of human rights. In August 2009, a petition asking the British Government to apologise to Turing for punishing him for being a homosexual was started. The petition received thousands of signatures. Prime Minister Gordon Brown acknowledged the petition. He called Turing\\'s treatment \"appalling\".\\n\\nReferences\\n\\nOther websites \\nJack Copeland 2012. Alan Turing: The codebreaker who saved \\'millions of lives\\'. BBC News / Technology \\n\\nEnglish computer scientists\\nEnglish LGBT people\\nEnglish mathematicians\\nGay men\\nLGBT scientists\\nScientists from London\\nSuicides by poison\\nSuicides in the United Kingdom\\n1912 births\\n1954 deaths\\nOfficers of the Order of the British Empire'}"
      ]
     },
     "execution_count": 22,
     "metadata": {},
     "output_type": "execute_result"
    }
   ],
   "source": [
    "data[6]"
   ]
  },
  {
   "cell_type": "markdown",
   "metadata": {},
   "source": [
    "Create the tokenizer that helps to understand how many token is a text."
   ]
  },
  {
   "cell_type": "code",
   "execution_count": 23,
   "metadata": {},
   "outputs": [
    {
     "data": {
      "text/plain": [
       "28"
      ]
     },
     "execution_count": 23,
     "metadata": {},
     "output_type": "execute_result"
    }
   ],
   "source": [
    "import tiktoken  # !pip install tiktoken\n",
    "\n",
    "tokenizer = tiktoken.get_encoding('p50k_base')\n",
    "\n",
    "# create the length function\n",
    "def tiktoken_len(text):\n",
    "    tokens = tokenizer.encode(\n",
    "        text,\n",
    "        disallowed_special=()\n",
    "    )\n",
    "    return len(tokens)\n",
    "\n",
    "tiktoken_len(\"hello I am a chunk of text and using the tiktoken_len function \"\n",
    "             \"we can find the length of this chunk of text in tokens\")"
   ]
  },
  {
   "cell_type": "markdown",
   "metadata": {},
   "source": [
    "We have nice components that can split text for us."
   ]
  },
  {
   "cell_type": "code",
   "execution_count": 24,
   "metadata": {},
   "outputs": [],
   "source": [
    "from langchain.text_splitter import RecursiveCharacterTextSplitter\n",
    "\n",
    "\n",
    "text_splitter = RecursiveCharacterTextSplitter(\n",
    "    chunk_size=400,\n",
    "    chunk_overlap=20,\n",
    "    length_function=tiktoken_len,\n",
    "    separators=[\"\\n\\n\", \"\\n\", \" \", \"\"]\n",
    ")\n"
   ]
  },
  {
   "cell_type": "code",
   "execution_count": 25,
   "metadata": {},
   "outputs": [
    {
     "name": "stdout",
     "output_type": "stream",
     "text": [
      "['Alan Mathison Turing OBE FRS (London, 23 June 1912 – Wilmslow, Cheshire, 7 '\n",
      " 'June 1954) was an English mathematician and computer scientist. He was born '\n",
      " 'in Maida Vale, London.\\n'\n",
      " '\\n'\n",
      " 'Early life and family \\n'\n",
      " 'Alan Turing was born in Maida Vale, London on 23 June 1912. His father was '\n",
      " 'part of a family of merchants from Scotland. His mother, Ethel Sara, was the '\n",
      " 'daughter of an engineer.\\n'\n",
      " '\\n'\n",
      " 'Education \\n'\n",
      " \"Turing went to St. Michael's, a school at 20 Charles Road, St \"\n",
      " 'Leonards-on-sea, when he was five years old.\\n'\n",
      " '\"This is only a foretaste of what is to come, and only the shadow of what is '\n",
      " 'going to be.” – Alan Turing.\\n'\n",
      " '\\n'\n",
      " 'The Stoney family were once prominent landlords, here in North Tipperary. '\n",
      " 'His mother Ethel Sara Stoney (1881–1976) was daughter of Edward Waller '\n",
      " 'Stoney (Borrisokane, North Tipperary) and Sarah Crawford (Cartron Abbey, Co. '\n",
      " 'Longford); Protestant Anglo-Irish gentry.\\n'\n",
      " '\\n'\n",
      " 'Educated in Dublin at Alexandra School and College; on October 1st 1907 she '\n",
      " 'married Julius Mathison Turing, latter son of Reverend John Robert Turing '\n",
      " 'and Fanny Boyd, in Dublin. Born on June 23rd 1912, Alan Turing would go on '\n",
      " 'to be regarded as one of the greatest figures of the twentieth century.\\n'\n",
      " '\\n'\n",
      " 'A brilliant mathematician and cryptographer Alan was to become the founder '\n",
      " 'of modern-day computer science and artificial intelligence; designing a '\n",
      " 'machine at Bletchley Park to break secret Enigma encrypted messages used by '\n",
      " 'the Nazi German war machine to protect sensitive commercial, diplomatic and '\n",
      " 'military communications during World War 2. Thus, Turing made the single '\n",
      " 'biggest contribution to the Allied victory in the war against Nazi Germany, '\n",
      " 'possibly saving the lives of an estimated 2 million people, through his '\n",
      " 'effort in shortening World War II.',\n",
      " 'In 2013, almost 60 years later, Turing received a posthumous Royal Pardon '\n",
      " 'from Queen Elizabeth II. Today, the “Turing law” grants an automatic pardon '\n",
      " 'to men who died before the law came into force, making it possible for '\n",
      " 'living convicted gay men to seek pardons for offences now no longer on the '\n",
      " 'statute book.\\n'\n",
      " '\\n'\n",
      " 'Alas, Turing accidentally or otherwise lost his life in 1954, having been '\n",
      " 'subjected by a British court to chemical castration, thus avoiding a '\n",
      " 'custodial sentence. He is known to have ended his life at the age of 41 '\n",
      " 'years, by eating an apple laced with cyanide.\\n'\n",
      " '\\n'\n",
      " 'Career \\n'\n",
      " 'Turing was one of the people who worked on the first computers. He created '\n",
      " 'the theoretical  Turing machine in 1936. The machine was imaginary, but it '\n",
      " 'included the idea of a computer program.\\n'\n",
      " '\\n'\n",
      " 'Turing was interested in artificial intelligence. He proposed the Turing '\n",
      " 'test, to say when a machine could be called \"intelligent\". A computer could '\n",
      " 'be said to \"think\" if a human talking with it could not tell it was a '\n",
      " 'machine.\\n'\n",
      " '\\n'\n",
      " 'During World War II, Turing worked with others to break German ciphers '\n",
      " '(secret messages). He  worked for the Government Code and Cypher School '\n",
      " \"(GC&CS) at Bletchley Park, Britain's codebreaking centre that produced Ultra \"\n",
      " 'intelligence.\\n'\n",
      " 'Using cryptanalysis, he helped to break the codes of the Enigma machine. '\n",
      " 'After that, he worked on other German codes.']\n",
      "397\n",
      "304\n",
      "370\n",
      "83\n"
     ]
    }
   ],
   "source": [
    "from pprint import pprint\n",
    "chunks = text_splitter.split_text(data[6]['text'])\n",
    "pprint(chunks[:2])\n",
    "\n",
    "# cycle in all chunks and print length with previous function\n",
    "for chunk in chunks:\n",
    "    print(tiktoken_len(chunk))"
   ]
  },
  {
   "cell_type": "markdown",
   "metadata": {},
   "source": [
    "Now we need to use embeddings, remmeber we need to use code for azure."
   ]
  },
  {
   "cell_type": "code",
   "execution_count": 26,
   "metadata": {},
   "outputs": [],
   "source": [
    "from langchain.embeddings.openai import OpenAIEmbeddings\n",
    "import os\n",
    "from dotenv import load_dotenv, find_dotenv\n",
    "import openai\n",
    "openai.api_key = os.getenv(\"OPENAI_API_KEY\")\n",
    "openai.api_base = os.getenv(\"OPENAI_API_BASE\")\n",
    "openai.api_type = 'azure'\n",
    "openai.api_version = '2023-05-15'\n",
    "\n",
    "_ = load_dotenv(find_dotenv()) # read local .env file\n",
    "\n",
    "model_name = 'text-embedding-ada-002'\n",
    "api_key = os.getenv(\"OPENAI_API_KEY\")\n",
    "\n",
    "# even if the api is azure, we can simply set as above the base class to work with azure\n",
    "# then use standard embeddings\n",
    "embed = OpenAIEmbeddings(\n",
    "    openai_api_key=api_key\n",
    ")\n",
    "\n"
   ]
  },
  {
   "cell_type": "code",
   "execution_count": 27,
   "metadata": {},
   "outputs": [
    {
     "data": {
      "text/plain": [
       "(1, 1536)"
      ]
     },
     "execution_count": 27,
     "metadata": {},
     "output_type": "execute_result"
    }
   ],
   "source": [
    "texts = [\n",
    "    'this is the first chunk of text',\n",
    "]\n",
    "\n",
    "res = embed.embed_documents(texts)\n",
    "len(res), len(res[0])"
   ]
  },
  {
   "cell_type": "markdown",
   "metadata": {},
   "source": [
    "Now integrate with pinecone"
   ]
  },
  {
   "cell_type": "code",
   "execution_count": 28,
   "metadata": {},
   "outputs": [
    {
     "name": "stdout",
     "output_type": "stream",
     "text": [
      "us-west1-gcp-free\n"
     ]
    }
   ],
   "source": [
    "import pinecone\n",
    "\n",
    "_ = load_dotenv(find_dotenv()) # read local .env file\n",
    "\n",
    "index_name = 'langchain-retrieval-augmentation'\n",
    "\n",
    "pinecone.init(\n",
    "        api_key=os.getenv(\"PINECONE_KEY\"),  # find api key in console at app.pinecone.io\n",
    "        environment=os.getenv(\"PINECONE_ENV\")  # find next to api key in console\n",
    ")\n",
    "\n",
    "# print pinecone key and env\n",
    "# print(os.getenv(\"PINECONE_KEY\"))\n",
    "print(os.getenv(\"PINECONE_ENV\"))\n"
   ]
  },
  {
   "cell_type": "code",
   "execution_count": 29,
   "metadata": {},
   "outputs": [
    {
     "name": "stdout",
     "output_type": "stream",
     "text": [
      "us-west1-gcp-free\n"
     ]
    }
   ],
   "source": [
    "\n",
    "# we create a new index\n",
    "pinecone.create_index(\n",
    "        name=index_name,\n",
    "        metric='dotproduct',\n",
    "        dimension=len(res[0]) # 1536 dim of text-embedding-ada-002\n",
    ")\n"
   ]
  },
  {
   "cell_type": "code",
   "execution_count": 30,
   "metadata": {},
   "outputs": [
    {
     "data": {
      "text/plain": [
       "{'dimension': 1536,\n",
       " 'index_fullness': 0.0,\n",
       " 'namespaces': {},\n",
       " 'total_vector_count': 0}"
      ]
     },
     "execution_count": 30,
     "metadata": {},
     "output_type": "execute_result"
    }
   ],
   "source": [
    "import pinecone\n",
    "index = pinecone.GRPCIndex(index_name)\n",
    "\n",
    "index.describe_index_stats()"
   ]
  },
  {
   "cell_type": "code",
   "execution_count": null,
   "metadata": {},
   "outputs": [],
   "source": [
    "from tqdm.auto import tqdm\n",
    "from uuid import uuid4\n",
    "\n",
    "for i, record in enumerate(tqdm(data)):\n",
    "    # first get metadata fields for this record\n",
    "\n",
    "    metadata = {\n",
    "        'wiki-id': str(record['id']),\n",
    "        'source': record['url'],\n",
    "        'title': record['title']\n",
    "    }\n",
    "    # now we create chunks from the record text\n",
    "    record_texts = text_splitter.split_text(record['text'])\n",
    "    # create individual metadata dicts for each chunk\n",
    "    record_metadatas = [{\n",
    "        \"chunk\": j, \"text\": text, **metadata\n",
    "    } for j, text in enumerate(record_texts)]\n",
    "    # append these to current batches\n",
    "    texts.extend(record_texts)\n",
    "    metadatas.extend(record_metadatas)\n",
    "    # cannot do the batch in azure api openai, need to call one by one\n",
    "    # for text in record_texts:\n",
    "    #     id = str(uuid4())\n",
    "    #     print(id)\n",
    "    #     # embeds = embed.embed_documents(text)\n",
    "    #     # index.upsert(vectors=zip([id], embeds, [metadata]))\n",
    "\n"
   ]
  }
 ],
 "metadata": {
  "kernelspec": {
   "display_name": "langchain",
   "language": "python",
   "name": "langchain"
  },
  "language_info": {
   "codemirror_mode": {
    "name": "ipython",
    "version": 3
   },
   "file_extension": ".py",
   "mimetype": "text/x-python",
   "name": "python",
   "nbconvert_exporter": "python",
   "pygments_lexer": "ipython3",
   "version": "3.10.8"
  },
  "orig_nbformat": 4
 },
 "nbformat": 4,
 "nbformat_minor": 2
}
